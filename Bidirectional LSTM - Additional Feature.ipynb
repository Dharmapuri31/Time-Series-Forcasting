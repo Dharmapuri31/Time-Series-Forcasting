{
 "cells": [
  {
   "cell_type": "markdown",
   "metadata": {},
   "source": [
    "<center>\n",
    "    <h1>Time Series Forecasting using Bidirectional LSTM</h1>\n",
    "    <h3>Name: Prerak Shah, Sai Sri Meghana Dharmapuri</h3>\n",
    "</center>"
   ]
  },
  {
   "cell_type": "markdown",
   "metadata": {},
   "source": [
    "# 1. Reading the dataset"
   ]
  },
  {
   "cell_type": "code",
   "execution_count": 1,
   "metadata": {},
   "outputs": [],
   "source": [
    "import pandas as pd\n",
    "import numpy as np\n",
    "import matplotlib.pyplot as plt\n",
    "import seaborn as sns\n",
    "import scipy.stats as st\n",
    "# Encode text values to dummy variables(i.e. [1,0,0],[0,1,0],[0,0,1] for red,green,blue)\n",
    "def encode_text_dummy(df, name):\n",
    "    dummies = pd.get_dummies(df[name])\n",
    "    for x in dummies.columns:\n",
    "        dummy_name = \"{}-{}\".format(name, x)\n",
    "        df[dummy_name] = dummies[x]\n",
    "    df.drop(name, axis=1, inplace=True)\n",
    "\n",
    "\n",
    "# Encode text values to indexes(i.e. [1],[2],[3] for red,green,blue).\n",
    "def encode_text_index(df, name):\n",
    "    le = preprocessing.LabelEncoder()\n",
    "    df[name] = le.fit_transform(df[name])\n",
    "    return le.classes_\n",
    "\n",
    "\n",
    "# Encode a numeric column as zscores\n",
    "def encode_numeric_zscore(df, name, mean=None, sd=None):\n",
    "    if mean is None:\n",
    "        mean = df[name].mean()\n",
    "\n",
    "    if sd is None:\n",
    "        sd = df[name].std()\n",
    "\n",
    "    df[name] = (df[name] - mean) / sd\n",
    "\n",
    "\n",
    "# Convert all missing values in the specified column to the median\n",
    "def missing_median(df, name):\n",
    "    med = df[name].median()\n",
    "    df[name] = df[name].fillna(med)\n",
    "\n",
    "\n",
    "# Convert all missing values in the specified column to the default\n",
    "def missing_default(df, name, default_value):\n",
    "    df[name] = df[name].fillna(default_value)\n",
    "    \n",
    "# Nicely formatted time string\n",
    "def hms_string(sec_elapsed):\n",
    "    h = int(sec_elapsed / (60 * 60))\n",
    "    m = int((sec_elapsed % (60 * 60)) / 60)\n",
    "    s = sec_elapsed % 60\n",
    "    return \"{}:{:>02}:{:>05.2f}\".format(h, m, s)\n",
    "\n",
    "\n",
    "# Regression chart.\n",
    "def chart_regression(pred,y,sort=True):\n",
    "    t = pd.DataFrame({'pred' : pred, 'y' : y.flatten()})\n",
    "    if sort:\n",
    "        t.sort_values(by=['y'],inplace=True)\n",
    "    a = plt.plot(t['y'].tolist(),label='expected')\n",
    "    b = plt.plot(t['pred'].tolist(),label='prediction')\n",
    "    plt.ylabel('output')\n",
    "    plt.legend()\n",
    "    plt.show()\n",
    "\n",
    "# Remove all rows where the specified column is +/- sd standard deviations\n",
    "def remove_outliers(df, name, sd):\n",
    "    drop_rows = df.index[(np.abs(df[name] - df[name].mean()) >= (sd * df[name].std()))]\n",
    "    df.drop(drop_rows, axis=0, inplace=True)\n",
    "\n",
    "\n",
    "# Encode a column to a range between normalized_low and normalized_high.\n",
    "def encode_numeric_range(df, name, normalized_low=-1, normalized_high=1,\n",
    "                         data_low=None, data_high=None):\n",
    "    if data_low is None:\n",
    "        data_low = min(df[name])\n",
    "        data_high = max(df[name])\n",
    "\n",
    "    df[name] = ((df[name] - data_low) / (data_high - data_low)) \\\n",
    "               * (normalized_high - normalized_low) + normalized_low\n"
   ]
  },
  {
   "cell_type": "code",
   "execution_count": 2,
   "metadata": {},
   "outputs": [],
   "source": [
    "df_stock = pd.read_csv('CSC215_P2_Stock_Price.csv')"
   ]
  },
  {
   "cell_type": "code",
   "execution_count": 3,
   "metadata": {},
   "outputs": [
    {
     "data": {
      "text/plain": [
       "(4392, 7)"
      ]
     },
     "execution_count": 3,
     "metadata": {},
     "output_type": "execute_result"
    }
   ],
   "source": [
    "df_stock.shape"
   ]
  },
  {
   "cell_type": "code",
   "execution_count": 4,
   "metadata": {},
   "outputs": [
    {
     "data": {
      "text/html": [
       "<div>\n",
       "<style scoped>\n",
       "    .dataframe tbody tr th:only-of-type {\n",
       "        vertical-align: middle;\n",
       "    }\n",
       "\n",
       "    .dataframe tbody tr th {\n",
       "        vertical-align: top;\n",
       "    }\n",
       "\n",
       "    .dataframe thead th {\n",
       "        text-align: right;\n",
       "    }\n",
       "</style>\n",
       "<table border=\"1\" class=\"dataframe\">\n",
       "  <thead>\n",
       "    <tr style=\"text-align: right;\">\n",
       "      <th></th>\n",
       "      <th>Date</th>\n",
       "      <th>Open</th>\n",
       "      <th>High</th>\n",
       "      <th>Low</th>\n",
       "      <th>Close</th>\n",
       "      <th>Adj_Close</th>\n",
       "      <th>Volume</th>\n",
       "    </tr>\n",
       "  </thead>\n",
       "  <tbody>\n",
       "    <tr>\n",
       "      <td>0</td>\n",
       "      <td>2000/3/27</td>\n",
       "      <td>3.812500</td>\n",
       "      <td>4.156250</td>\n",
       "      <td>3.812500</td>\n",
       "      <td>4.125000</td>\n",
       "      <td>4.125000</td>\n",
       "      <td>3675600</td>\n",
       "    </tr>\n",
       "    <tr>\n",
       "      <td>1</td>\n",
       "      <td>2000/3/28</td>\n",
       "      <td>4.125000</td>\n",
       "      <td>4.125000</td>\n",
       "      <td>4.000000</td>\n",
       "      <td>4.015625</td>\n",
       "      <td>4.015625</td>\n",
       "      <td>1077600</td>\n",
       "    </tr>\n",
       "    <tr>\n",
       "      <td>2</td>\n",
       "      <td>2000/3/29</td>\n",
       "      <td>4.000000</td>\n",
       "      <td>4.031250</td>\n",
       "      <td>3.953125</td>\n",
       "      <td>4.000000</td>\n",
       "      <td>4.000000</td>\n",
       "      <td>437200</td>\n",
       "    </tr>\n",
       "    <tr>\n",
       "      <td>3</td>\n",
       "      <td>2000/3/30</td>\n",
       "      <td>4.000000</td>\n",
       "      <td>4.000000</td>\n",
       "      <td>3.843750</td>\n",
       "      <td>3.843750</td>\n",
       "      <td>3.843750</td>\n",
       "      <td>1883600</td>\n",
       "    </tr>\n",
       "    <tr>\n",
       "      <td>4</td>\n",
       "      <td>2000/3/31</td>\n",
       "      <td>3.734375</td>\n",
       "      <td>3.734375</td>\n",
       "      <td>3.390625</td>\n",
       "      <td>3.390625</td>\n",
       "      <td>3.390625</td>\n",
       "      <td>7931600</td>\n",
       "    </tr>\n",
       "  </tbody>\n",
       "</table>\n",
       "</div>"
      ],
      "text/plain": [
       "        Date      Open      High       Low     Close  Adj_Close   Volume\n",
       "0  2000/3/27  3.812500  4.156250  3.812500  4.125000   4.125000  3675600\n",
       "1  2000/3/28  4.125000  4.125000  4.000000  4.015625   4.015625  1077600\n",
       "2  2000/3/29  4.000000  4.031250  3.953125  4.000000   4.000000   437200\n",
       "3  2000/3/30  4.000000  4.000000  3.843750  3.843750   3.843750  1883600\n",
       "4  2000/3/31  3.734375  3.734375  3.390625  3.390625   3.390625  7931600"
      ]
     },
     "execution_count": 4,
     "metadata": {},
     "output_type": "execute_result"
    }
   ],
   "source": [
    "df_stock.head()"
   ]
  },
  {
   "cell_type": "markdown",
   "metadata": {},
   "source": [
    "# Data Cleaning \n",
    "\n",
    "# 2. Drop Date and Adj_Close columns"
   ]
  },
  {
   "cell_type": "code",
   "execution_count": 5,
   "metadata": {},
   "outputs": [
    {
     "data": {
      "text/html": [
       "<div>\n",
       "<style scoped>\n",
       "    .dataframe tbody tr th:only-of-type {\n",
       "        vertical-align: middle;\n",
       "    }\n",
       "\n",
       "    .dataframe tbody tr th {\n",
       "        vertical-align: top;\n",
       "    }\n",
       "\n",
       "    .dataframe thead th {\n",
       "        text-align: right;\n",
       "    }\n",
       "</style>\n",
       "<table border=\"1\" class=\"dataframe\">\n",
       "  <thead>\n",
       "    <tr style=\"text-align: right;\">\n",
       "      <th></th>\n",
       "      <th>Date</th>\n",
       "      <th>Open</th>\n",
       "      <th>High</th>\n",
       "      <th>Low</th>\n",
       "      <th>Close</th>\n",
       "      <th>Adj_Close</th>\n",
       "      <th>Volume</th>\n",
       "    </tr>\n",
       "  </thead>\n",
       "  <tbody>\n",
       "    <tr>\n",
       "      <td>0</td>\n",
       "      <td>2000/3/27</td>\n",
       "      <td>3.812500</td>\n",
       "      <td>4.156250</td>\n",
       "      <td>3.812500</td>\n",
       "      <td>4.125000</td>\n",
       "      <td>4.125000</td>\n",
       "      <td>3675600</td>\n",
       "    </tr>\n",
       "    <tr>\n",
       "      <td>1</td>\n",
       "      <td>2000/3/28</td>\n",
       "      <td>4.125000</td>\n",
       "      <td>4.125000</td>\n",
       "      <td>4.000000</td>\n",
       "      <td>4.015625</td>\n",
       "      <td>4.015625</td>\n",
       "      <td>1077600</td>\n",
       "    </tr>\n",
       "    <tr>\n",
       "      <td>2</td>\n",
       "      <td>2000/3/29</td>\n",
       "      <td>4.000000</td>\n",
       "      <td>4.031250</td>\n",
       "      <td>3.953125</td>\n",
       "      <td>4.000000</td>\n",
       "      <td>4.000000</td>\n",
       "      <td>437200</td>\n",
       "    </tr>\n",
       "    <tr>\n",
       "      <td>3</td>\n",
       "      <td>2000/3/30</td>\n",
       "      <td>4.000000</td>\n",
       "      <td>4.000000</td>\n",
       "      <td>3.843750</td>\n",
       "      <td>3.843750</td>\n",
       "      <td>3.843750</td>\n",
       "      <td>1883600</td>\n",
       "    </tr>\n",
       "    <tr>\n",
       "      <td>4</td>\n",
       "      <td>2000/3/31</td>\n",
       "      <td>3.734375</td>\n",
       "      <td>3.734375</td>\n",
       "      <td>3.390625</td>\n",
       "      <td>3.390625</td>\n",
       "      <td>3.390625</td>\n",
       "      <td>7931600</td>\n",
       "    </tr>\n",
       "  </tbody>\n",
       "</table>\n",
       "</div>"
      ],
      "text/plain": [
       "        Date      Open      High       Low     Close  Adj_Close   Volume\n",
       "0  2000/3/27  3.812500  4.156250  3.812500  4.125000   4.125000  3675600\n",
       "1  2000/3/28  4.125000  4.125000  4.000000  4.015625   4.015625  1077600\n",
       "2  2000/3/29  4.000000  4.031250  3.953125  4.000000   4.000000   437200\n",
       "3  2000/3/30  4.000000  4.000000  3.843750  3.843750   3.843750  1883600\n",
       "4  2000/3/31  3.734375  3.734375  3.390625  3.390625   3.390625  7931600"
      ]
     },
     "execution_count": 5,
     "metadata": {},
     "output_type": "execute_result"
    }
   ],
   "source": [
    "# storing the original dataset in a different dataframe before dropping the columns \n",
    "df_stock_new = df_stock\n",
    "df_stock_new.head()"
   ]
  },
  {
   "cell_type": "code",
   "execution_count": 6,
   "metadata": {},
   "outputs": [
    {
     "data": {
      "text/html": [
       "<div>\n",
       "<style scoped>\n",
       "    .dataframe tbody tr th:only-of-type {\n",
       "        vertical-align: middle;\n",
       "    }\n",
       "\n",
       "    .dataframe tbody tr th {\n",
       "        vertical-align: top;\n",
       "    }\n",
       "\n",
       "    .dataframe thead th {\n",
       "        text-align: right;\n",
       "    }\n",
       "</style>\n",
       "<table border=\"1\" class=\"dataframe\">\n",
       "  <thead>\n",
       "    <tr style=\"text-align: right;\">\n",
       "      <th></th>\n",
       "      <th>Open</th>\n",
       "      <th>High</th>\n",
       "      <th>Low</th>\n",
       "      <th>Close</th>\n",
       "      <th>Volume</th>\n",
       "    </tr>\n",
       "  </thead>\n",
       "  <tbody>\n",
       "    <tr>\n",
       "      <td>0</td>\n",
       "      <td>3.812500</td>\n",
       "      <td>4.156250</td>\n",
       "      <td>3.812500</td>\n",
       "      <td>4.125000</td>\n",
       "      <td>3675600</td>\n",
       "    </tr>\n",
       "    <tr>\n",
       "      <td>1</td>\n",
       "      <td>4.125000</td>\n",
       "      <td>4.125000</td>\n",
       "      <td>4.000000</td>\n",
       "      <td>4.015625</td>\n",
       "      <td>1077600</td>\n",
       "    </tr>\n",
       "    <tr>\n",
       "      <td>2</td>\n",
       "      <td>4.000000</td>\n",
       "      <td>4.031250</td>\n",
       "      <td>3.953125</td>\n",
       "      <td>4.000000</td>\n",
       "      <td>437200</td>\n",
       "    </tr>\n",
       "    <tr>\n",
       "      <td>3</td>\n",
       "      <td>4.000000</td>\n",
       "      <td>4.000000</td>\n",
       "      <td>3.843750</td>\n",
       "      <td>3.843750</td>\n",
       "      <td>1883600</td>\n",
       "    </tr>\n",
       "    <tr>\n",
       "      <td>4</td>\n",
       "      <td>3.734375</td>\n",
       "      <td>3.734375</td>\n",
       "      <td>3.390625</td>\n",
       "      <td>3.390625</td>\n",
       "      <td>7931600</td>\n",
       "    </tr>\n",
       "  </tbody>\n",
       "</table>\n",
       "</div>"
      ],
      "text/plain": [
       "       Open      High       Low     Close   Volume\n",
       "0  3.812500  4.156250  3.812500  4.125000  3675600\n",
       "1  4.125000  4.125000  4.000000  4.015625  1077600\n",
       "2  4.000000  4.031250  3.953125  4.000000   437200\n",
       "3  4.000000  4.000000  3.843750  3.843750  1883600\n",
       "4  3.734375  3.734375  3.390625  3.390625  7931600"
      ]
     },
     "execution_count": 6,
     "metadata": {},
     "output_type": "execute_result"
    }
   ],
   "source": [
    "# dropping the columns Date and Adj_Close\n",
    "df_stock_new=df_stock_new.drop(['Date', 'Adj_Close'], axis=1)\n",
    "df_stock_new.head()\n",
    "#df_stock_new.['y'] = df_stock_new.['Close']"
   ]
  },
  {
   "cell_type": "code",
   "execution_count": 7,
   "metadata": {},
   "outputs": [
    {
     "data": {
      "text/plain": [
       "(4392, 5)"
      ]
     },
     "execution_count": 7,
     "metadata": {},
     "output_type": "execute_result"
    }
   ],
   "source": [
    "df_stock_new.shape"
   ]
  },
  {
   "cell_type": "code",
   "execution_count": 8,
   "metadata": {},
   "outputs": [
    {
     "data": {
      "text/plain": [
       "(4392, 7)"
      ]
     },
     "execution_count": 8,
     "metadata": {},
     "output_type": "execute_result"
    }
   ],
   "source": [
    "df_stock.shape"
   ]
  },
  {
   "cell_type": "markdown",
   "metadata": {},
   "source": [
    "# 3. Removing null values "
   ]
  },
  {
   "cell_type": "code",
   "execution_count": 9,
   "metadata": {},
   "outputs": [
    {
     "data": {
      "text/plain": [
       "(4392, 5)"
      ]
     },
     "execution_count": 9,
     "metadata": {},
     "output_type": "execute_result"
    }
   ],
   "source": [
    "df_stock_new.shape"
   ]
  },
  {
   "cell_type": "code",
   "execution_count": 10,
   "metadata": {},
   "outputs": [
    {
     "data": {
      "text/plain": [
       "Open      0\n",
       "High      0\n",
       "Low       0\n",
       "Close     0\n",
       "Volume    0\n",
       "dtype: int64"
      ]
     },
     "execution_count": 10,
     "metadata": {},
     "output_type": "execute_result"
    }
   ],
   "source": [
    "#Calling sum() of the DataFrame returned by isnull() will give a series containing data about count of NaN in each column\n",
    "df_stock_new.isnull().sum()"
   ]
  },
  {
   "cell_type": "code",
   "execution_count": 11,
   "metadata": {},
   "outputs": [],
   "source": [
    "# creating a copy of the column, Close\n",
    "df_stock_new['y'] = df_stock_new['Close']"
   ]
  },
  {
   "cell_type": "code",
   "execution_count": 12,
   "metadata": {},
   "outputs": [
    {
     "data": {
      "text/html": [
       "<div>\n",
       "<style scoped>\n",
       "    .dataframe tbody tr th:only-of-type {\n",
       "        vertical-align: middle;\n",
       "    }\n",
       "\n",
       "    .dataframe tbody tr th {\n",
       "        vertical-align: top;\n",
       "    }\n",
       "\n",
       "    .dataframe thead th {\n",
       "        text-align: right;\n",
       "    }\n",
       "</style>\n",
       "<table border=\"1\" class=\"dataframe\">\n",
       "  <thead>\n",
       "    <tr style=\"text-align: right;\">\n",
       "      <th></th>\n",
       "      <th>Open</th>\n",
       "      <th>High</th>\n",
       "      <th>Low</th>\n",
       "      <th>Close</th>\n",
       "      <th>Volume</th>\n",
       "      <th>y</th>\n",
       "    </tr>\n",
       "  </thead>\n",
       "  <tbody>\n",
       "    <tr>\n",
       "      <td>0</td>\n",
       "      <td>3.812500</td>\n",
       "      <td>4.156250</td>\n",
       "      <td>3.812500</td>\n",
       "      <td>4.125000</td>\n",
       "      <td>3675600</td>\n",
       "      <td>4.125000</td>\n",
       "    </tr>\n",
       "    <tr>\n",
       "      <td>1</td>\n",
       "      <td>4.125000</td>\n",
       "      <td>4.125000</td>\n",
       "      <td>4.000000</td>\n",
       "      <td>4.015625</td>\n",
       "      <td>1077600</td>\n",
       "      <td>4.015625</td>\n",
       "    </tr>\n",
       "    <tr>\n",
       "      <td>2</td>\n",
       "      <td>4.000000</td>\n",
       "      <td>4.031250</td>\n",
       "      <td>3.953125</td>\n",
       "      <td>4.000000</td>\n",
       "      <td>437200</td>\n",
       "      <td>4.000000</td>\n",
       "    </tr>\n",
       "    <tr>\n",
       "      <td>3</td>\n",
       "      <td>4.000000</td>\n",
       "      <td>4.000000</td>\n",
       "      <td>3.843750</td>\n",
       "      <td>3.843750</td>\n",
       "      <td>1883600</td>\n",
       "      <td>3.843750</td>\n",
       "    </tr>\n",
       "    <tr>\n",
       "      <td>4</td>\n",
       "      <td>3.734375</td>\n",
       "      <td>3.734375</td>\n",
       "      <td>3.390625</td>\n",
       "      <td>3.390625</td>\n",
       "      <td>7931600</td>\n",
       "      <td>3.390625</td>\n",
       "    </tr>\n",
       "  </tbody>\n",
       "</table>\n",
       "</div>"
      ],
      "text/plain": [
       "       Open      High       Low     Close   Volume         y\n",
       "0  3.812500  4.156250  3.812500  4.125000  3675600  4.125000\n",
       "1  4.125000  4.125000  4.000000  4.015625  1077600  4.015625\n",
       "2  4.000000  4.031250  3.953125  4.000000   437200  4.000000\n",
       "3  4.000000  4.000000  3.843750  3.843750  1883600  3.843750\n",
       "4  3.734375  3.734375  3.390625  3.390625  7931600  3.390625"
      ]
     },
     "execution_count": 12,
     "metadata": {},
     "output_type": "execute_result"
    }
   ],
   "source": [
    "df_stock_new.head()"
   ]
  },
  {
   "cell_type": "markdown",
   "metadata": {},
   "source": [
    "# 4. Normalizing the columns "
   ]
  },
  {
   "cell_type": "code",
   "execution_count": 13,
   "metadata": {},
   "outputs": [],
   "source": [
    "#Normalizing the training numeric values using zscore\n",
    "from scipy.stats import zscore\n",
    "df_stock_new['Open'] = zscore(df_stock_new['Open'])\n",
    "df_stock_new['High'] = zscore(df_stock_new['High'])\n",
    "df_stock_new['Low'] = zscore(df_stock_new['Low'])\n",
    "df_stock_new['Close'] = zscore(df_stock_new['Close'])\n",
    "df_stock_new['Volume'] = zscore(df_stock_new['Volume'])"
   ]
  },
  {
   "cell_type": "code",
   "execution_count": 14,
   "metadata": {},
   "outputs": [
    {
     "name": "stderr",
     "output_type": "stream",
     "text": [
      "C:\\Users\\Prerak\\Anaconda3\\lib\\site-packages\\ipykernel_launcher.py:1: FutureWarning: Method .as_matrix will be removed in a future version. Use .values instead.\n",
      "  \"\"\"Entry point for launching an IPython kernel.\n"
     ]
    }
   ],
   "source": [
    "x=df_stock_new.as_matrix(columns=['Open','High','Low','Volume','Close'])"
   ]
  },
  {
   "cell_type": "code",
   "execution_count": 15,
   "metadata": {},
   "outputs": [
    {
     "data": {
      "text/plain": [
       "(4392, 5)"
      ]
     },
     "execution_count": 15,
     "metadata": {},
     "output_type": "execute_result"
    }
   ],
   "source": [
    "x.shape"
   ]
  },
  {
   "cell_type": "code",
   "execution_count": 16,
   "metadata": {},
   "outputs": [
    {
     "data": {
      "text/plain": [
       "(4392, 6)"
      ]
     },
     "execution_count": 16,
     "metadata": {},
     "output_type": "execute_result"
    }
   ],
   "source": [
    "df_stock_new.shape"
   ]
  },
  {
   "cell_type": "code",
   "execution_count": 17,
   "metadata": {},
   "outputs": [],
   "source": [
    "#y=df_stock_new.as_matrix(['y'])"
   ]
  },
  {
   "cell_type": "code",
   "execution_count": 18,
   "metadata": {},
   "outputs": [],
   "source": [
    "y=df_stock_new['y'].tolist()"
   ]
  },
  {
   "cell_type": "code",
   "execution_count": 19,
   "metadata": {},
   "outputs": [],
   "source": [
    "y=np.array(y)"
   ]
  },
  {
   "cell_type": "code",
   "execution_count": 20,
   "metadata": {},
   "outputs": [
    {
     "data": {
      "text/plain": [
       "(4392,)"
      ]
     },
     "execution_count": 20,
     "metadata": {},
     "output_type": "execute_result"
    }
   ],
   "source": [
    "y.shape"
   ]
  },
  {
   "cell_type": "markdown",
   "metadata": {},
   "source": [
    "# 4. Data Transformation"
   ]
  },
  {
   "cell_type": "code",
   "execution_count": 21,
   "metadata": {},
   "outputs": [],
   "source": [
    "import numpy as np\n",
    "\n",
    "def to_sequences(seq_size, data1, data2):\n",
    "    x = []\n",
    "    y = []\n",
    "\n",
    "    for i in range(len(data1)-seq_size):\n",
    "        #print(i)\n",
    "        window = data1[i:(i+seq_size)]\n",
    "        after_window = data2[i+seq_size]\n",
    "        window = [[x] for x in window]\n",
    "        #print(\"{} - {}\".format(window,after_window))\n",
    "        x.append(window)\n",
    "        y.append(after_window)\n",
    "        \n",
    "    return np.array(x), np.array(y)"
   ]
  },
  {
   "cell_type": "code",
   "execution_count": 22,
   "metadata": {},
   "outputs": [
    {
     "name": "stdout",
     "output_type": "stream",
     "text": [
      "Shape of x_seq: (4385, 7, 1, 5)\n",
      "Shape of y_seq: (4385,)\n"
     ]
    }
   ],
   "source": [
    "SEQUENCE_SIZE = 7\n",
    "x_seq, y_seq = to_sequences(SEQUENCE_SIZE,x,y)\n",
    "#x_lstm_seq_test,y_lstm_seq_test = to_sequences(SEQUENCE_SIZE,X_test,y_test)\n",
    "\n",
    "print(\"Shape of x_seq: {}\".format(x_seq.shape))\n",
    "#print(\"Shape of x_test: {}\".format(x_lstm_seq_test.shape))\n",
    "print(\"Shape of y_seq: {}\".format(y_seq.shape))\n",
    "#print(\"Shape of y_test: {}\".format(y_lstm_seq_test.shape))"
   ]
  },
  {
   "cell_type": "code",
   "execution_count": 23,
   "metadata": {},
   "outputs": [],
   "source": [
    "x_seq_3d = x_seq.reshape(4385,7,5)"
   ]
  },
  {
   "cell_type": "markdown",
   "metadata": {},
   "source": [
    "# 5. Splitting the dataset into test and train data ( 70% train & 30% test )"
   ]
  },
  {
   "cell_type": "code",
   "execution_count": 24,
   "metadata": {},
   "outputs": [],
   "source": [
    "from sklearn.model_selection import train_test_split\n",
    "X_train,X_test,Y_train,Y_test = train_test_split(x_seq_3d,y_seq,test_size=0.30,random_state=0)"
   ]
  },
  {
   "cell_type": "code",
   "execution_count": 25,
   "metadata": {},
   "outputs": [
    {
     "data": {
      "text/plain": [
       "(3069, 7, 5)"
      ]
     },
     "execution_count": 25,
     "metadata": {},
     "output_type": "execute_result"
    }
   ],
   "source": [
    "X_train.shape"
   ]
  },
  {
   "cell_type": "code",
   "execution_count": 26,
   "metadata": {},
   "outputs": [
    {
     "data": {
      "text/plain": [
       "3069"
      ]
     },
     "execution_count": 26,
     "metadata": {},
     "output_type": "execute_result"
    }
   ],
   "source": [
    "len(X_train)"
   ]
  },
  {
   "cell_type": "code",
   "execution_count": 27,
   "metadata": {},
   "outputs": [
    {
     "data": {
      "text/plain": [
       "(1316, 7, 5)"
      ]
     },
     "execution_count": 27,
     "metadata": {},
     "output_type": "execute_result"
    }
   ],
   "source": [
    "X_test.shape"
   ]
  },
  {
   "cell_type": "code",
   "execution_count": 28,
   "metadata": {},
   "outputs": [
    {
     "data": {
      "text/plain": [
       "(3069,)"
      ]
     },
     "execution_count": 28,
     "metadata": {},
     "output_type": "execute_result"
    }
   ],
   "source": [
    "Y_train.shape"
   ]
  },
  {
   "cell_type": "code",
   "execution_count": 29,
   "metadata": {},
   "outputs": [
    {
     "data": {
      "text/plain": [
       "(1316,)"
      ]
     },
     "execution_count": 29,
     "metadata": {},
     "output_type": "execute_result"
    }
   ],
   "source": [
    "Y_test.shape"
   ]
  },
  {
   "cell_type": "code",
   "execution_count": 30,
   "metadata": {},
   "outputs": [
    {
     "data": {
      "text/plain": [
       "numpy.ndarray"
      ]
     },
     "execution_count": 30,
     "metadata": {},
     "output_type": "execute_result"
    }
   ],
   "source": [
    "type(Y_test)\n",
    "type(X_test)\n",
    "type(X_train)\n",
    "type(Y_train)"
   ]
  },
  {
   "cell_type": "markdown",
   "metadata": {},
   "source": [
    "# <center> <h1>Bidirectional LSTM</h1></center>"
   ]
  },
  {
   "cell_type": "markdown",
   "metadata": {},
   "source": [
    "With Adam optimizer and relu activation "
   ]
  },
  {
   "cell_type": "code",
   "execution_count": 31,
   "metadata": {},
   "outputs": [
    {
     "name": "stderr",
     "output_type": "stream",
     "text": [
      "Using TensorFlow backend.\n"
     ]
    },
    {
     "name": "stdout",
     "output_type": "stream",
     "text": [
      "Train on 3069 samples, validate on 1316 samples\n",
      "Epoch 1/200\n",
      " - 8s - loss: 1176.1583 - val_loss: 562.4222\n",
      "Epoch 2/200\n",
      " - 3s - loss: 335.5579 - val_loss: 133.4421\n",
      "Epoch 3/200\n",
      " - 3s - loss: 74.6560 - val_loss: 23.8266\n",
      "Epoch 4/200\n",
      " - 3s - loss: 15.2757 - val_loss: 7.0718\n",
      "Epoch 5/200\n",
      " - 3s - loss: 7.2742 - val_loss: 3.0065\n",
      "Epoch 6/200\n",
      " - 3s - loss: 2.5982 - val_loss: 2.4449\n",
      "Epoch 7/200\n",
      " - 3s - loss: 2.0630 - val_loss: 2.5959\n",
      "Epoch 8/200\n",
      " - 3s - loss: 2.2038 - val_loss: 2.5684\n",
      "Epoch 9/200\n",
      " - 3s - loss: 2.2202 - val_loss: 2.1638\n",
      "Epoch 10/200\n",
      " - 2s - loss: 2.1505 - val_loss: 2.6043\n",
      "Epoch 11/200\n",
      " - 7s - loss: 1.9188 - val_loss: 1.9644\n",
      "Epoch 12/200\n",
      " - 7s - loss: 2.0148 - val_loss: 2.4939\n",
      "Epoch 13/200\n",
      " - 3s - loss: 1.5068 - val_loss: 2.0763\n",
      "Epoch 14/200\n",
      " - 3s - loss: 1.6883 - val_loss: 2.4547\n",
      "Epoch 15/200\n",
      " - 3s - loss: 1.4420 - val_loss: 1.6484\n",
      "Epoch 16/200\n",
      " - 4s - loss: 1.4169 - val_loss: 2.5483\n",
      "Epoch 17/200\n",
      " - 3s - loss: 2.0605 - val_loss: 1.5756\n",
      "Epoch 18/200\n",
      " - 3s - loss: 1.4303 - val_loss: 1.8597\n",
      "Epoch 19/200\n",
      " - 3s - loss: 1.4985 - val_loss: 1.7718\n",
      "Epoch 20/200\n",
      " - 3s - loss: 1.5658 - val_loss: 3.3979\n",
      "Epoch 21/200\n",
      " - 2s - loss: 1.2741 - val_loss: 1.6461\n",
      "Epoch 22/200\n",
      " - 3s - loss: 1.2213 - val_loss: 1.4927\n",
      "Epoch 23/200\n",
      " - 3s - loss: 1.3694 - val_loss: 1.7413\n",
      "Epoch 24/200\n",
      " - 3s - loss: 1.4042 - val_loss: 1.9091\n",
      "Epoch 25/200\n",
      " - 3s - loss: 1.2155 - val_loss: 1.6226\n",
      "Epoch 26/200\n",
      " - 3s - loss: 1.5157 - val_loss: 1.5232\n",
      "Epoch 27/200\n",
      " - 3s - loss: 1.3181 - val_loss: 2.0227\n",
      "Epoch 00027: early stopping\n",
      "\n",
      "\n",
      "Final score (MSE): 1.4927364659881144\n",
      "Final score (RMSE): 1.2217759475403476\n"
     ]
    },
    {
     "data": {
      "image/png": "[encoded data removed]",
      "text/plain": [
       "<Figure size 432x288 with 1 Axes>"
      ]
     },
     "metadata": {
      "needs_background": "light"
     },
     "output_type": "display_data"
    }
   ],
   "source": [
    "import keras\n",
    "from keras.preprocessing import sequence\n",
    "from keras.models import Sequential\n",
    "from keras.layers import Dense, Dropout, Embedding, LSTM, Bidirectional\n",
    "from keras.datasets import imdb\n",
    "from tensorflow.keras.callbacks import EarlyStopping\n",
    "from tensorflow.keras.callbacks import ModelCheckpoint\n",
    "from random import random\n",
    "from sklearn import metrics\n",
    "\n",
    "model = Sequential()\n",
    "model.add(Bidirectional(LSTM(64, return_sequences=True),input_shape=(7,5)))\n",
    "model.add(Bidirectional(LSTM(32)))\n",
    "model.add(Dense(32, activation='relu'))\n",
    "model.add(Dense(1))\n",
    "model.compile(loss='mean_squared_error', optimizer='adam')\n",
    "monitor = EarlyStopping(monitor='val_loss', min_delta=1e-3, patience=5, verbose=1, mode='auto')\n",
    "checkpointer = ModelCheckpoint(filepath=\"best_weights_LSTM.hdf5\", verbose=0, save_best_only=True)\n",
    "\n",
    "model.fit(X_train,Y_train,validation_data=(X_test,Y_test),callbacks=[monitor, checkpointer],verbose=2, epochs=200)\n",
    "        \n",
    "model.load_weights('best_weights_LSTM.hdf5')\n",
    "\n",
    "pred = model.predict(X_test)\n",
    "        \n",
    "# Measure MSE error.  \n",
    "mse = metrics.mean_squared_error(pred,Y_test)\n",
    "print(\"\\n\\nFinal score (MSE): {}\".format(mse))\n",
    "        \n",
    "# Measure RMSE error.  RMSE is common for regression.\n",
    "rmse = np.sqrt(metrics.mean_squared_error(pred,Y_test))\n",
    "print(\"Final score (RMSE): {}\".format(rmse))\n",
    "        \n",
    "chart_regression(pred.flatten(),Y_test,sort=True)\n",
    "\n"
   ]
  },
  {
   "cell_type": "markdown",
   "metadata": {},
   "source": [
    "With Adam optimizer and sigmoid activation"
   ]
  },
  {
   "cell_type": "code",
   "execution_count": 32,
   "metadata": {},
   "outputs": [
    {
     "name": "stdout",
     "output_type": "stream",
     "text": [
      "Train on 3069 samples, validate on 1316 samples\n",
      "Epoch 1/200\n",
      " - 9s - loss: 1725.5751 - val_loss: 1582.4622\n",
      "Epoch 2/200\n",
      " - 3s - loss: 1575.3124 - val_loss: 1509.3404\n",
      "Epoch 3/200\n",
      " - 3s - loss: 1505.8649 - val_loss: 1445.0722\n",
      "Epoch 4/200\n",
      " - 3s - loss: 1443.9611 - val_loss: 1387.0256\n",
      "Epoch 5/200\n",
      " - 3s - loss: 1388.0022 - val_loss: 1333.9289\n",
      "Epoch 6/200\n",
      " - 3s - loss: 1336.7017 - val_loss: 1286.3931\n",
      "Epoch 7/200\n",
      " - 3s - loss: 1289.7596 - val_loss: 1242.3922\n",
      "Epoch 8/200\n",
      " - 3s - loss: 1246.8714 - val_loss: 1201.7093\n",
      "Epoch 9/200\n",
      " - 3s - loss: 1207.6988 - val_loss: 1165.0640\n",
      "Epoch 10/200\n",
      " - 3s - loss: 1171.9919 - val_loss: 1131.9146\n",
      "Epoch 11/200\n",
      " - 3s - loss: 1139.4857 - val_loss: 1101.8495\n",
      "Epoch 12/200\n",
      " - 3s - loss: 1110.0266 - val_loss: 1074.4137\n",
      "Epoch 13/200\n",
      " - 3s - loss: 1083.3712 - val_loss: 1049.9319\n",
      "Epoch 14/200\n",
      " - 3s - loss: 1059.4480 - val_loss: 1027.5947\n",
      "Epoch 15/200\n",
      " - 3s - loss: 1037.8957 - val_loss: 1008.0698\n",
      "Epoch 16/200\n",
      " - 3s - loss: 1018.6940 - val_loss: 990.5384\n",
      "Epoch 17/200\n",
      " - 2s - loss: 1001.6219 - val_loss: 974.7414\n",
      "Epoch 18/200\n",
      " - 3s - loss: 986.4370 - val_loss: 961.2954\n",
      "Epoch 19/200\n",
      " - 2s - loss: 948.6406 - val_loss: 855.1393\n",
      "Epoch 20/200\n",
      " - 3s - loss: 852.1089 - val_loss: 809.2021\n",
      "Epoch 21/200\n",
      " - 3s - loss: 813.6133 - val_loss: 774.5696\n",
      "Epoch 22/200\n",
      " - 3s - loss: 779.5970 - val_loss: 741.8491\n",
      "Epoch 23/200\n",
      " - 3s - loss: 747.5790 - val_loss: 711.6890\n",
      "Epoch 24/200\n",
      " - 3s - loss: 717.5651 - val_loss: 682.7111\n",
      "Epoch 25/200\n",
      " - 3s - loss: 689.1941 - val_loss: 655.4547\n",
      "Epoch 26/200\n",
      " - 3s - loss: 662.4299 - val_loss: 629.6497\n",
      "Epoch 27/200\n",
      " - 2s - loss: 637.1297 - val_loss: 605.4345\n",
      "Epoch 28/200\n",
      " - 3s - loss: 613.2291 - val_loss: 582.3820\n",
      "Epoch 29/200\n",
      " - 3s - loss: 590.6205 - val_loss: 560.8070\n",
      "Epoch 30/200\n",
      " - 3s - loss: 569.1605 - val_loss: 540.5842\n",
      "Epoch 31/200\n",
      " - 3s - loss: 548.7897 - val_loss: 520.5809\n",
      "Epoch 32/200\n",
      " - 3s - loss: 529.2052 - val_loss: 501.6510\n",
      "Epoch 33/200\n",
      " - 3s - loss: 510.3847 - val_loss: 483.7909\n",
      "Epoch 34/200\n",
      " - 3s - loss: 492.4240 - val_loss: 466.3687\n",
      "Epoch 35/200\n",
      " - 3s - loss: 475.1274 - val_loss: 449.8583\n",
      "Epoch 36/200\n",
      " - 3s - loss: 458.4544 - val_loss: 433.8806\n",
      "Epoch 37/200\n",
      " - 3s - loss: 442.4562 - val_loss: 418.3730\n",
      "Epoch 38/200\n",
      " - 3s - loss: 427.1027 - val_loss: 403.4491\n",
      "Epoch 39/200\n",
      " - 3s - loss: 412.3463 - val_loss: 389.2305\n",
      "Epoch 40/200\n",
      " - 3s - loss: 398.0648 - val_loss: 375.3113\n",
      "Epoch 41/200\n",
      " - 3s - loss: 384.2180 - val_loss: 361.7812\n",
      "Epoch 42/200\n",
      " - 3s - loss: 370.7719 - val_loss: 348.6027\n",
      "Epoch 43/200\n",
      " - 3s - loss: 357.7076 - val_loss: 335.9333\n",
      "Epoch 44/200\n",
      " - 4s - loss: 345.0116 - val_loss: 323.6352\n",
      "Epoch 45/200\n",
      " - 4s - loss: 332.6751 - val_loss: 311.4598\n",
      "Epoch 46/200\n",
      " - 3s - loss: 320.6200 - val_loss: 299.6271\n",
      "Epoch 47/200\n",
      " - 3s - loss: 308.9588 - val_loss: 288.3351\n",
      "Epoch 48/200\n",
      " - 4s - loss: 297.7134 - val_loss: 277.0920\n",
      "Epoch 49/200\n",
      " - 4s - loss: 286.7273 - val_loss: 266.3381\n",
      "Epoch 50/200\n",
      " - 4s - loss: 276.0523 - val_loss: 256.0110\n",
      "Epoch 51/200\n",
      " - 3s - loss: 265.6769 - val_loss: 246.0046\n",
      "Epoch 52/200\n",
      " - 3s - loss: 255.5552 - val_loss: 236.0135\n",
      "Epoch 53/200\n",
      " - 3s - loss: 245.6961 - val_loss: 226.5041\n",
      "Epoch 54/200\n",
      " - 2s - loss: 236.0992 - val_loss: 217.0176\n",
      "Epoch 55/200\n",
      " - 2s - loss: 226.7756 - val_loss: 208.0086\n",
      "Epoch 56/200\n",
      " - 3s - loss: 217.7562 - val_loss: 199.4862\n",
      "Epoch 57/200\n",
      " - 3s - loss: 209.4482 - val_loss: 190.9513\n",
      "Epoch 58/200\n",
      " - 3s - loss: 200.6755 - val_loss: 182.7279\n",
      "Epoch 59/200\n",
      " - 3s - loss: 192.4409 - val_loss: 174.9254\n",
      "Epoch 60/200\n",
      " - 3s - loss: 184.5165 - val_loss: 167.5486\n",
      "Epoch 61/200\n",
      " - 3s - loss: 176.9629 - val_loss: 160.1935\n",
      "Epoch 62/200\n",
      " - 3s - loss: 169.5956 - val_loss: 153.0900\n",
      "Epoch 63/200\n",
      " - 3s - loss: 162.5382 - val_loss: 146.5278\n",
      "Epoch 64/200\n",
      " - 3s - loss: 155.7820 - val_loss: 140.1745\n",
      "Epoch 65/200\n",
      " - 3s - loss: 149.2263 - val_loss: 133.9516\n",
      "Epoch 66/200\n",
      " - 3s - loss: 142.9581 - val_loss: 128.1800\n",
      "Epoch 67/200\n",
      " - 3s - loss: 136.8707 - val_loss: 122.2149\n",
      "Epoch 68/200\n",
      " - 3s - loss: 130.9285 - val_loss: 117.2654\n",
      "Epoch 69/200\n",
      " - 3s - loss: 125.3485 - val_loss: 111.7977\n",
      "Epoch 70/200\n",
      " - 3s - loss: 119.8295 - val_loss: 106.6989\n",
      "Epoch 71/200\n",
      " - 3s - loss: 114.6023 - val_loss: 101.7456\n",
      "Epoch 72/200\n",
      " - 3s - loss: 109.5116 - val_loss: 97.2721\n",
      "Epoch 73/200\n",
      " - 3s - loss: 104.6429 - val_loss: 92.6648\n",
      "Epoch 74/200\n",
      " - 3s - loss: 99.8250 - val_loss: 88.3399\n",
      "Epoch 75/200\n",
      " - 3s - loss: 95.2337 - val_loss: 84.2223\n",
      "Epoch 76/200\n",
      " - 3s - loss: 90.9016 - val_loss: 80.1968\n",
      "Epoch 77/200\n",
      " - 3s - loss: 86.6854 - val_loss: 76.4312\n",
      "Epoch 78/200\n",
      " - 3s - loss: 82.6662 - val_loss: 72.7107\n",
      "Epoch 79/200\n",
      " - 3s - loss: 78.7242 - val_loss: 69.1481\n",
      "Epoch 80/200\n",
      " - 3s - loss: 75.0271 - val_loss: 65.9185\n",
      "Epoch 81/200\n",
      " - 3s - loss: 71.3448 - val_loss: 62.4544\n",
      "Epoch 82/200\n",
      " - 3s - loss: 67.8730 - val_loss: 59.3372\n",
      "Epoch 83/200\n",
      " - 3s - loss: 64.5345 - val_loss: 56.3193\n",
      "Epoch 84/200\n",
      " - 3s - loss: 61.3607 - val_loss: 53.3791\n",
      "Epoch 85/200\n",
      " - 3s - loss: 58.2490 - val_loss: 50.6156\n",
      "Epoch 86/200\n",
      " - 3s - loss: 55.2787 - val_loss: 48.0058\n",
      "Epoch 87/200\n",
      " - 6s - loss: 52.4489 - val_loss: 45.6698\n",
      "Epoch 88/200\n",
      " - 4s - loss: 49.8710 - val_loss: 42.9631\n",
      "Epoch 89/200\n",
      " - 4s - loss: 47.0618 - val_loss: 40.5754\n",
      "Epoch 90/200\n",
      " - 5s - loss: 44.5182 - val_loss: 38.6413\n",
      "Epoch 91/200\n",
      " - 4s - loss: 42.1343 - val_loss: 36.1692\n",
      "Epoch 92/200\n",
      " - 3s - loss: 39.8953 - val_loss: 34.5703\n",
      "Epoch 93/200\n",
      " - 3s - loss: 37.7096 - val_loss: 32.3472\n",
      "Epoch 94/200\n",
      " - 3s - loss: 35.7097 - val_loss: 30.5349\n",
      "Epoch 95/200\n",
      " - 3s - loss: 33.7190 - val_loss: 28.7126\n",
      "Epoch 96/200\n",
      " - 3s - loss: 31.7065 - val_loss: 27.0769\n",
      "Epoch 97/200\n",
      " - 3s - loss: 29.9309 - val_loss: 25.6313\n",
      "Epoch 98/200\n",
      " - 3s - loss: 28.5464 - val_loss: 24.0546\n",
      "Epoch 99/200\n",
      " - 3s - loss: 26.7142 - val_loss: 22.5399\n",
      "Epoch 100/200\n",
      " - 3s - loss: 25.1611 - val_loss: 21.2445\n",
      "Epoch 101/200\n",
      " - 3s - loss: 23.7570 - val_loss: 20.3969\n",
      "Epoch 102/200\n",
      " - 3s - loss: 24.9596 - val_loss: 51.5819\n",
      "Epoch 103/200\n",
      " - 3s - loss: 34.4178 - val_loss: 18.7581\n",
      "Epoch 104/200\n",
      " - 3s - loss: 20.7339 - val_loss: 17.6915\n",
      "Epoch 105/200\n",
      " - 3s - loss: 19.3974 - val_loss: 16.5584\n",
      "Epoch 106/200\n",
      " - 3s - loss: 18.1981 - val_loss: 15.2590\n",
      "Epoch 107/200\n",
      " - 4s - loss: 17.0244 - val_loss: 14.2918\n",
      "Epoch 108/200\n",
      " - 6s - loss: 15.9051 - val_loss: 13.3966\n",
      "Epoch 109/200\n",
      " - 5s - loss: 14.9504 - val_loss: 12.6342\n",
      "Epoch 110/200\n",
      " - 4s - loss: 14.0040 - val_loss: 11.6813\n",
      "Epoch 111/200\n",
      " - 5s - loss: 13.0426 - val_loss: 11.7410\n",
      "Epoch 112/200\n",
      " - 5s - loss: 12.3593 - val_loss: 10.4531\n",
      "Epoch 113/200\n",
      " - 5s - loss: 11.4096 - val_loss: 9.5800\n",
      "Epoch 114/200\n",
      " - 5s - loss: 10.6877 - val_loss: 8.9376\n",
      "Epoch 115/200\n",
      " - 4s - loss: 9.9757 - val_loss: 8.2539\n",
      "Epoch 116/200\n",
      " - 5s - loss: 9.2545 - val_loss: 7.6387\n",
      "Epoch 117/200\n",
      " - 5s - loss: 8.7117 - val_loss: 7.8702\n",
      "Epoch 118/200\n",
      " - 5s - loss: 8.1014 - val_loss: 7.0341\n",
      "Epoch 119/200\n",
      " - 5s - loss: 7.5595 - val_loss: 6.1985\n",
      "Epoch 120/200\n",
      " - 4s - loss: 6.9140 - val_loss: 5.7644\n",
      "Epoch 121/200\n",
      " - 4s - loss: 6.4146 - val_loss: 5.4858\n",
      "Epoch 122/200\n",
      " - 3s - loss: 5.9761 - val_loss: 5.2405\n",
      "Epoch 123/200\n",
      " - 3s - loss: 5.5712 - val_loss: 4.5956\n",
      "Epoch 124/200\n",
      " - 3s - loss: 5.1267 - val_loss: 4.4175\n",
      "Epoch 125/200\n",
      " - 3s - loss: 4.7614 - val_loss: 4.1891\n",
      "Epoch 126/200\n",
      " - 3s - loss: 4.4047 - val_loss: 3.8758\n",
      "Epoch 127/200\n",
      " - 4s - loss: 4.0948 - val_loss: 3.5100\n",
      "Epoch 128/200\n",
      " - 4s - loss: 3.7895 - val_loss: 3.4381\n",
      "Epoch 129/200\n",
      " - 3s - loss: 3.4843 - val_loss: 2.9279\n",
      "Epoch 130/200\n",
      " - 3s - loss: 3.1982 - val_loss: 2.9131\n",
      "Epoch 131/200\n",
      " - 3s - loss: 3.0223 - val_loss: 2.7020\n",
      "Epoch 132/200\n",
      " - 3s - loss: 2.7647 - val_loss: 2.3580\n",
      "Epoch 133/200\n",
      " - 3s - loss: 2.5600 - val_loss: 2.7297\n",
      "Epoch 134/200\n",
      " - 3s - loss: 2.3304 - val_loss: 2.4034\n",
      "Epoch 135/200\n",
      " - 3s - loss: 2.4163 - val_loss: 2.1166\n",
      "Epoch 136/200\n",
      " - 3s - loss: 2.0210 - val_loss: 1.7486\n",
      "Epoch 137/200\n",
      " - 3s - loss: 1.8672 - val_loss: 1.6744\n",
      "Epoch 138/200\n",
      " - 3s - loss: 1.7556 - val_loss: 1.8186\n",
      "Epoch 139/200\n",
      " - 3s - loss: 1.5839 - val_loss: 1.5662\n",
      "Epoch 140/200\n",
      " - 3s - loss: 1.4973 - val_loss: 1.4144\n",
      "Epoch 141/200\n",
      " - 3s - loss: 1.3784 - val_loss: 1.7060\n",
      "Epoch 142/200\n",
      " - 3s - loss: 1.4494 - val_loss: 2.0417\n",
      "Epoch 143/200\n",
      " - 3s - loss: 1.3563 - val_loss: 1.2758\n",
      "Epoch 144/200\n",
      " - 3s - loss: 1.4659 - val_loss: 2.0125\n",
      "Epoch 145/200\n",
      " - 3s - loss: 1.2316 - val_loss: 1.3031\n",
      "Epoch 146/200\n",
      " - 3s - loss: 1.0994 - val_loss: 1.2859\n"
     ]
    },
    {
     "name": "stdout",
     "output_type": "stream",
     "text": [
      "Epoch 147/200\n",
      " - 4s - loss: 1.2585 - val_loss: 1.5167\n",
      "Epoch 148/200\n",
      " - 4s - loss: 1.1524 - val_loss: 1.2360\n",
      "Epoch 149/200\n",
      " - 5s - loss: 0.9568 - val_loss: 1.2013\n",
      "Epoch 150/200\n",
      " - 4s - loss: 1.0229 - val_loss: 1.5604\n",
      "Epoch 151/200\n",
      " - 4s - loss: 0.9715 - val_loss: 1.2114\n",
      "Epoch 152/200\n",
      " - 4s - loss: 0.8908 - val_loss: 1.1679\n",
      "Epoch 153/200\n",
      " - 4s - loss: 0.8784 - val_loss: 1.2579\n",
      "Epoch 154/200\n",
      " - 4s - loss: 0.8839 - val_loss: 1.1572\n",
      "Epoch 155/200\n",
      " - 4s - loss: 0.8695 - val_loss: 1.1724\n",
      "Epoch 156/200\n",
      " - 5s - loss: 0.9091 - val_loss: 1.1588\n",
      "Epoch 157/200\n",
      " - 5s - loss: 0.8495 - val_loss: 1.1546\n",
      "Epoch 158/200\n",
      " - 4s - loss: 0.7756 - val_loss: 1.2602\n",
      "Epoch 159/200\n",
      " - 5s - loss: 0.8286 - val_loss: 1.1117\n",
      "Epoch 160/200\n",
      " - 4s - loss: 0.8099 - val_loss: 1.1234\n",
      "Epoch 161/200\n",
      " - 4s - loss: 0.8123 - val_loss: 1.3040\n",
      "Epoch 162/200\n",
      " - 4s - loss: 0.8111 - val_loss: 1.2557\n",
      "Epoch 163/200\n",
      " - 4s - loss: 0.8008 - val_loss: 1.4712\n",
      "Epoch 164/200\n",
      " - 3s - loss: 0.7794 - val_loss: 1.2057\n",
      "Epoch 00164: early stopping\n",
      "\n",
      "\n",
      "Final score (MSE): 1.1117040856243445\n",
      "Final score (RMSE): 1.0543737883807358\n"
     ]
    },
    {
     "data": {
      "image/png": "[encoded data removed]",
      "text/plain": [
       "<Figure size 432x288 with 1 Axes>"
      ]
     },
     "metadata": {
      "needs_background": "light"
     },
     "output_type": "display_data"
    }
   ],
   "source": [
    "model = Sequential()\n",
    "model.add(Bidirectional(LSTM(64, return_sequences=True),input_shape=(7,5)))\n",
    "model.add(Bidirectional(LSTM(32)))\n",
    "model.add(Dense(32, activation='sigmoid'))\n",
    "model.add(Dense(1))\n",
    "model.compile(loss='mean_squared_error', optimizer='adam')\n",
    "monitor = EarlyStopping(monitor='val_loss', min_delta=1e-3, patience=5, verbose=1, mode='auto')\n",
    "checkpointer = ModelCheckpoint(filepath=\"best_weights_LSTM.hdf5\", verbose=0, save_best_only=True)\n",
    "\n",
    "model.fit(X_train,Y_train,validation_data=(X_test,Y_test),callbacks=[monitor, checkpointer],verbose=2, epochs=200)\n",
    "        \n",
    "model.load_weights('best_weights_LSTM.hdf5')\n",
    "\n",
    "pred = model.predict(X_test)\n",
    "        \n",
    "# Measure MSE error.  \n",
    "mse = metrics.mean_squared_error(pred,Y_test)\n",
    "print(\"\\n\\nFinal score (MSE): {}\".format(mse))\n",
    "        \n",
    "# Measure RMSE error.  RMSE is common for regression.\n",
    "rmse = np.sqrt(metrics.mean_squared_error(pred,Y_test))\n",
    "print(\"Final score (RMSE): {}\".format(rmse))\n",
    "        \n",
    "chart_regression(pred.flatten(),Y_test,sort=True)\n",
    "\n"
   ]
  },
  {
   "cell_type": "markdown",
   "metadata": {},
   "source": [
    "With Adam optimizer and tanh activation"
   ]
  },
  {
   "cell_type": "code",
   "execution_count": 33,
   "metadata": {},
   "outputs": [
    {
     "name": "stdout",
     "output_type": "stream",
     "text": [
      "Train on 3069 samples, validate on 1316 samples\n",
      "Epoch 1/200\n",
      " - 15s - loss: 1497.4575 - val_loss: 1307.9200\n",
      "Epoch 2/200\n",
      " - 4s - loss: 1270.6858 - val_loss: 1179.9993\n",
      "Epoch 3/200\n",
      " - 4s - loss: 1146.1003 - val_loss: 1063.0086\n",
      "Epoch 4/200\n",
      " - 5s - loss: 1037.7228 - val_loss: 965.6124\n",
      "Epoch 5/200\n",
      " - 5s - loss: 943.4929 - val_loss: 877.5451\n",
      "Epoch 6/200\n",
      " - 5s - loss: 859.8888 - val_loss: 798.9927\n",
      "Epoch 7/200\n",
      " - 4s - loss: 785.7159 - val_loss: 729.3681\n",
      "Epoch 8/200\n",
      " - 4s - loss: 719.5968 - val_loss: 668.5373\n",
      "Epoch 9/200\n",
      " - 5s - loss: 660.8611 - val_loss: 613.7424\n",
      "Epoch 10/200\n",
      " - 5s - loss: 608.5215 - val_loss: 565.0652\n",
      "Epoch 11/200\n",
      " - 5s - loss: 561.9859 - val_loss: 521.4624\n",
      "Epoch 12/200\n",
      " - 4s - loss: 520.0596 - val_loss: 482.6413\n",
      "Epoch 13/200\n",
      " - 4s - loss: 482.0689 - val_loss: 446.8511\n",
      "Epoch 14/200\n",
      " - 4s - loss: 447.3058 - val_loss: 415.1995\n",
      "Epoch 15/200\n",
      " - 4s - loss: 415.6078 - val_loss: 385.1190\n",
      "Epoch 16/200\n",
      " - 4s - loss: 386.3891 - val_loss: 357.0116\n",
      "Epoch 17/200\n",
      " - 4s - loss: 359.2789 - val_loss: 330.6959\n",
      "Epoch 18/200\n",
      " - 5s - loss: 333.9934 - val_loss: 306.8420\n",
      "Epoch 19/200\n",
      " - 5s - loss: 310.3526 - val_loss: 283.9945\n",
      "Epoch 20/200\n",
      " - 6s - loss: 288.0811 - val_loss: 262.7693\n",
      "Epoch 21/200\n",
      " - 5s - loss: 267.4937 - val_loss: 242.6816\n",
      "Epoch 22/200\n",
      " - 4s - loss: 247.8597 - val_loss: 224.4157\n",
      "Epoch 23/200\n",
      " - 4s - loss: 229.5993 - val_loss: 206.4055\n",
      "Epoch 24/200\n",
      " - 4s - loss: 212.3644 - val_loss: 190.3922\n",
      "Epoch 25/200\n",
      " - 4s - loss: 196.5998 - val_loss: 175.4047\n",
      "Epoch 26/200\n",
      " - 4s - loss: 181.8211 - val_loss: 161.5918\n",
      "Epoch 27/200\n",
      " - 4s - loss: 167.9702 - val_loss: 148.8632\n",
      "Epoch 28/200\n",
      " - 5s - loss: 155.2932 - val_loss: 137.0076\n",
      "Epoch 29/200\n",
      " - 4s - loss: 143.6071 - val_loss: 126.3452\n",
      "Epoch 30/200\n",
      " - 4s - loss: 132.8017 - val_loss: 116.3178\n",
      "Epoch 31/200\n",
      " - 5s - loss: 122.6254 - val_loss: 107.3872\n",
      "Epoch 32/200\n",
      " - 4s - loss: 113.2725 - val_loss: 98.7135\n",
      "Epoch 33/200\n",
      " - 6s - loss: 104.6747 - val_loss: 91.1209\n",
      "Epoch 34/200\n",
      " - 5s - loss: 96.5694 - val_loss: 83.5951\n",
      "Epoch 35/200\n",
      " - 5s - loss: 88.9300 - val_loss: 77.1567\n",
      "Epoch 36/200\n",
      " - 5s - loss: 81.8994 - val_loss: 71.2038\n",
      "Epoch 37/200\n",
      " - 5s - loss: 75.6038 - val_loss: 65.1690\n",
      "Epoch 38/200\n",
      " - 5s - loss: 69.2685 - val_loss: 59.7681\n",
      "Epoch 39/200\n",
      " - 5s - loss: 63.7156 - val_loss: 54.6815\n",
      "Epoch 40/200\n",
      " - 6s - loss: 58.5484 - val_loss: 50.2502\n",
      "Epoch 41/200\n",
      " - 7s - loss: 53.7088 - val_loss: 45.7909\n",
      "Epoch 42/200\n",
      " - 5s - loss: 49.1614 - val_loss: 41.9473\n",
      "Epoch 43/200\n",
      " - 3s - loss: 45.1101 - val_loss: 37.9846\n",
      "Epoch 44/200\n",
      " - 3s - loss: 41.1250 - val_loss: 34.8864\n",
      "Epoch 45/200\n",
      " - 3s - loss: 37.8164 - val_loss: 31.8241\n",
      "Epoch 46/200\n",
      " - 3s - loss: 34.5834 - val_loss: 29.0935\n",
      "Epoch 47/200\n",
      " - 5s - loss: 31.5129 - val_loss: 26.3834\n",
      "Epoch 48/200\n",
      " - 4s - loss: 29.0226 - val_loss: 24.5051\n",
      "Epoch 49/200\n",
      " - 3s - loss: 26.4244 - val_loss: 21.8627\n",
      "Epoch 50/200\n",
      " - 4s - loss: 23.9534 - val_loss: 19.9193\n",
      "Epoch 51/200\n",
      " - 3s - loss: 22.3157 - val_loss: 18.1466\n",
      "Epoch 52/200\n",
      " - 3s - loss: 19.9554 - val_loss: 16.4806\n",
      "Epoch 53/200\n",
      " - 3s - loss: 18.0530 - val_loss: 14.8647\n",
      "Epoch 54/200\n",
      " - 3s - loss: 16.4878 - val_loss: 13.8317\n",
      "Epoch 55/200\n",
      " - 3s - loss: 15.0218 - val_loss: 12.4988\n",
      "Epoch 56/200\n",
      " - 3s - loss: 13.5783 - val_loss: 11.5353\n",
      "Epoch 57/200\n",
      " - 4s - loss: 12.2622 - val_loss: 10.2214\n",
      "Epoch 58/200\n",
      " - 3s - loss: 11.1500 - val_loss: 9.0761\n",
      "Epoch 59/200\n",
      " - 3s - loss: 10.0589 - val_loss: 8.1271\n",
      "Epoch 60/200\n",
      " - 3s - loss: 9.1071 - val_loss: 7.5611\n",
      "Epoch 61/200\n",
      " - 3s - loss: 8.2665 - val_loss: 6.6515\n",
      "Epoch 62/200\n",
      " - 3s - loss: 7.3678 - val_loss: 6.1522\n",
      "Epoch 63/200\n",
      " - 3s - loss: 6.7806 - val_loss: 5.4654\n",
      "Epoch 64/200\n",
      " - 3s - loss: 6.0754 - val_loss: 4.9540\n",
      "Epoch 65/200\n",
      " - 3s - loss: 5.4507 - val_loss: 4.6496\n",
      "Epoch 66/200\n",
      " - 3s - loss: 4.9550 - val_loss: 4.1114\n",
      "Epoch 67/200\n",
      " - 3s - loss: 4.3948 - val_loss: 4.3578\n",
      "Epoch 68/200\n",
      " - 3s - loss: 4.0726 - val_loss: 3.1961\n",
      "Epoch 69/200\n",
      " - 3s - loss: 3.5166 - val_loss: 2.9622\n",
      "Epoch 70/200\n",
      " - 3s - loss: 3.2479 - val_loss: 2.6829\n",
      "Epoch 71/200\n",
      " - 3s - loss: 2.7758 - val_loss: 2.4912\n",
      "Epoch 72/200\n",
      " - 3s - loss: 2.6404 - val_loss: 2.3362\n",
      "Epoch 73/200\n",
      " - 3s - loss: 2.4254 - val_loss: 2.1540\n",
      "Epoch 74/200\n",
      " - 3s - loss: 2.1378 - val_loss: 1.7439\n",
      "Epoch 75/200\n",
      " - 3s - loss: 1.8491 - val_loss: 1.7304\n",
      "Epoch 76/200\n",
      " - 3s - loss: 2.0441 - val_loss: 2.1085\n",
      "Epoch 77/200\n",
      " - 3s - loss: 1.8198 - val_loss: 1.6269\n",
      "Epoch 78/200\n",
      " - 3s - loss: 1.5599 - val_loss: 1.7117\n",
      "Epoch 79/200\n",
      " - 3s - loss: 1.3944 - val_loss: 1.4619\n",
      "Epoch 80/200\n",
      " - 3s - loss: 1.2561 - val_loss: 1.6404\n",
      "Epoch 81/200\n",
      " - 3s - loss: 1.5419 - val_loss: 1.4039\n",
      "Epoch 82/200\n",
      " - 3s - loss: 1.2531 - val_loss: 1.4770\n",
      "Epoch 83/200\n",
      " - 3s - loss: 1.2559 - val_loss: 1.2524\n",
      "Epoch 84/200\n",
      " - 3s - loss: 1.1801 - val_loss: 1.3347\n",
      "Epoch 85/200\n",
      " - 3s - loss: 1.0240 - val_loss: 1.1274\n",
      "Epoch 86/200\n",
      " - 3s - loss: 0.9100 - val_loss: 1.1527\n",
      "Epoch 87/200\n",
      " - 3s - loss: 0.9325 - val_loss: 1.3428\n",
      "Epoch 88/200\n",
      " - 3s - loss: 0.9535 - val_loss: 1.1681\n",
      "Epoch 89/200\n",
      " - 3s - loss: 0.8844 - val_loss: 1.4646\n",
      "Epoch 90/200\n",
      " - 3s - loss: 0.9718 - val_loss: 1.1355\n",
      "Epoch 00090: early stopping\n",
      "\n",
      "\n",
      "Final score (MSE): 1.1274252036733057\n",
      "Final score (RMSE): 1.0618028082809472\n"
     ]
    },
    {
     "data": {
      "image/png": "[encoded data removed]",
      "text/plain": [
       "<Figure size 432x288 with 1 Axes>"
      ]
     },
     "metadata": {
      "needs_background": "light"
     },
     "output_type": "display_data"
    }
   ],
   "source": [
    "model = Sequential()\n",
    "model.add(Bidirectional(LSTM(64, return_sequences=True),input_shape=(7,5)))\n",
    "model.add(Bidirectional(LSTM(32)))\n",
    "model.add(Dense(32, activation='tanh'))\n",
    "model.add(Dense(1))\n",
    "model.compile(loss='mean_squared_error', optimizer='adam')\n",
    "monitor = EarlyStopping(monitor='val_loss', min_delta=1e-3, patience=5, verbose=1, mode='auto')\n",
    "checkpointer = ModelCheckpoint(filepath=\"best_weights_LSTM.hdf5\", verbose=0, save_best_only=True)\n",
    "\n",
    "model.fit(X_train,Y_train,validation_data=(X_test,Y_test),callbacks=[monitor, checkpointer],verbose=2, epochs=200)\n",
    "        \n",
    "model.load_weights('best_weights_LSTM.hdf5')\n",
    "\n",
    "pred = model.predict(X_test)\n",
    "        \n",
    "# Measure MSE error.  \n",
    "mse = metrics.mean_squared_error(pred,Y_test)\n",
    "print(\"\\n\\nFinal score (MSE): {}\".format(mse))\n",
    "        \n",
    "# Measure RMSE error.  RMSE is common for regression.\n",
    "rmse = np.sqrt(metrics.mean_squared_error(pred,Y_test))\n",
    "print(\"Final score (RMSE): {}\".format(rmse))\n",
    "        \n",
    "chart_regression(pred.flatten(),Y_test,sort=True)\n",
    "\n"
   ]
  }
 ],
 "metadata": {
  "kernelspec": {
   "display_name": "Python 3",
   "language": "python",
   "name": "python3"
  },
  "language_info": {
   "codemirror_mode": {
    "name": "ipython",
    "version": 3
   },
   "file_extension": ".py",
   "mimetype": "text/x-python",
   "name": "python",
   "nbconvert_exporter": "python",
   "pygments_lexer": "ipython3",
   "version": "3.7.4"
  }
 },
 "nbformat": 4,
 "nbformat_minor": 2
}
