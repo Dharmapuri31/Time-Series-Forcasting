{
 "cells": [
  {
   "cell_type": "markdown",
   "metadata": {},
   "source": [
    "<center>\n",
    "    <h1>Time Series Forecasting of JPMorgan Data</h1>\n",
    "    <h3>Name: Prerak Shah, Sai Sri Meghana Dharmapuri</h3>\n",
    "</center>"
   ]
  },
  {
   "cell_type": "markdown",
   "metadata": {},
   "source": [
    "# 1. Reading the dataset"
   ]
  },
  {
   "cell_type": "code",
   "execution_count": 1,
   "metadata": {},
   "outputs": [],
   "source": [
    "import pandas as pd\n",
    "import numpy as np\n",
    "import matplotlib.pyplot as plt\n",
    "import seaborn as sns\n",
    "import scipy.stats as st\n",
    "# Encode text values to dummy variables(i.e. [1,0,0],[0,1,0],[0,0,1] for red,green,blue)\n",
    "def encode_text_dummy(df, name):\n",
    "    dummies = pd.get_dummies(df[name])\n",
    "    for x in dummies.columns:\n",
    "        dummy_name = \"{}-{}\".format(name, x)\n",
    "        df[dummy_name] = dummies[x]\n",
    "    df.drop(name, axis=1, inplace=True)\n",
    "\n",
    "\n",
    "# Encode text values to indexes(i.e. [1],[2],[3] for red,green,blue).\n",
    "def encode_text_index(df, name):\n",
    "    le = preprocessing.LabelEncoder()\n",
    "    df[name] = le.fit_transform(df[name])\n",
    "    return le.classes_\n",
    "\n",
    "\n",
    "# Encode a numeric column as zscores\n",
    "def encode_numeric_zscore(df, name, mean=None, sd=None):\n",
    "    if mean is None:\n",
    "        mean = df[name].mean()\n",
    "\n",
    "    if sd is None:\n",
    "        sd = df[name].std()\n",
    "\n",
    "    df[name] = (df[name] - mean) / sd\n",
    "\n",
    "\n",
    "# Convert all missing values in the specified column to the median\n",
    "def missing_median(df, name):\n",
    "    med = df[name].median()\n",
    "    df[name] = df[name].fillna(med)\n",
    "\n",
    "\n",
    "# Convert all missing values in the specified column to the default\n",
    "def missing_default(df, name, default_value):\n",
    "    df[name] = df[name].fillna(default_value)\n",
    "    \n",
    "# Nicely formatted time string\n",
    "def hms_string(sec_elapsed):\n",
    "    h = int(sec_elapsed / (60 * 60))\n",
    "    m = int((sec_elapsed % (60 * 60)) / 60)\n",
    "    s = sec_elapsed % 60\n",
    "    return \"{}:{:>02}:{:>05.2f}\".format(h, m, s)\n",
    "\n",
    "\n",
    "# Regression chart.\n",
    "def chart_regression(pred,y,sort=True):\n",
    "    t = pd.DataFrame({'pred' : pred, 'y' : y.flatten()})\n",
    "    if sort:\n",
    "        t.sort_values(by=['y'],inplace=True)\n",
    "    a = plt.plot(t['y'].tolist(),label='expected')\n",
    "    b = plt.plot(t['pred'].tolist(),label='prediction')\n",
    "    plt.ylabel('output')\n",
    "    plt.legend()\n",
    "    plt.show()\n",
    "\n",
    "# Remove all rows where the specified column is +/- sd standard deviations\n",
    "def remove_outliers(df, name, sd):\n",
    "    drop_rows = df.index[(np.abs(df[name] - df[name].mean()) >= (sd * df[name].std()))]\n",
    "    df.drop(drop_rows, axis=0, inplace=True)\n",
    "\n",
    "\n",
    "# Encode a column to a range between normalized_low and normalized_high.\n",
    "def encode_numeric_range(df, name, normalized_low=-1, normalized_high=1,\n",
    "                         data_low=None, data_high=None):\n",
    "    if data_low is None:\n",
    "        data_low = min(df[name])\n",
    "        data_high = max(df[name])\n",
    "\n",
    "    df[name] = ((df[name] - data_low) / (data_high - data_low)) \\\n",
    "               * (normalized_high - normalized_low) + normalized_low\n"
   ]
  },
  {
   "cell_type": "code",
   "execution_count": 2,
   "metadata": {},
   "outputs": [],
   "source": [
    "df_stock = pd.read_csv('JPM.csv')"
   ]
  },
  {
   "cell_type": "code",
   "execution_count": 3,
   "metadata": {},
   "outputs": [
    {
     "data": {
      "text/plain": [
       "(9745, 7)"
      ]
     },
     "execution_count": 3,
     "metadata": {},
     "output_type": "execute_result"
    }
   ],
   "source": [
    "df_stock.shape"
   ]
  },
  {
   "cell_type": "code",
   "execution_count": 4,
   "metadata": {},
   "outputs": [
    {
     "data": {
      "text/html": [
       "<div>\n",
       "<style scoped>\n",
       "    .dataframe tbody tr th:only-of-type {\n",
       "        vertical-align: middle;\n",
       "    }\n",
       "\n",
       "    .dataframe tbody tr th {\n",
       "        vertical-align: top;\n",
       "    }\n",
       "\n",
       "    .dataframe thead th {\n",
       "        text-align: right;\n",
       "    }\n",
       "</style>\n",
       "<table border=\"1\" class=\"dataframe\">\n",
       "  <thead>\n",
       "    <tr style=\"text-align: right;\">\n",
       "      <th></th>\n",
       "      <th>Date</th>\n",
       "      <th>Open</th>\n",
       "      <th>High</th>\n",
       "      <th>Low</th>\n",
       "      <th>Close</th>\n",
       "      <th>Adj Close</th>\n",
       "      <th>Volume</th>\n",
       "    </tr>\n",
       "  </thead>\n",
       "  <tbody>\n",
       "    <tr>\n",
       "      <td>0</td>\n",
       "      <td>1980-03-17</td>\n",
       "      <td>5.018518</td>\n",
       "      <td>5.129630</td>\n",
       "      <td>5.018518</td>\n",
       "      <td>5.037037</td>\n",
       "      <td>0.304709</td>\n",
       "      <td>62400</td>\n",
       "    </tr>\n",
       "    <tr>\n",
       "      <td>1</td>\n",
       "      <td>1980-03-18</td>\n",
       "      <td>5.037037</td>\n",
       "      <td>5.111111</td>\n",
       "      <td>5.037037</td>\n",
       "      <td>5.074074</td>\n",
       "      <td>0.306950</td>\n",
       "      <td>63900</td>\n",
       "    </tr>\n",
       "    <tr>\n",
       "      <td>2</td>\n",
       "      <td>1980-03-19</td>\n",
       "      <td>5.111111</td>\n",
       "      <td>5.166667</td>\n",
       "      <td>5.111111</td>\n",
       "      <td>5.148148</td>\n",
       "      <td>0.311431</td>\n",
       "      <td>40500</td>\n",
       "    </tr>\n",
       "    <tr>\n",
       "      <td>3</td>\n",
       "      <td>1980-03-20</td>\n",
       "      <td>5.148148</td>\n",
       "      <td>5.148148</td>\n",
       "      <td>5.092593</td>\n",
       "      <td>5.111111</td>\n",
       "      <td>0.309190</td>\n",
       "      <td>18900</td>\n",
       "    </tr>\n",
       "    <tr>\n",
       "      <td>4</td>\n",
       "      <td>1980-03-21</td>\n",
       "      <td>5.111111</td>\n",
       "      <td>5.222222</td>\n",
       "      <td>5.111111</td>\n",
       "      <td>5.222222</td>\n",
       "      <td>0.315912</td>\n",
       "      <td>97200</td>\n",
       "    </tr>\n",
       "  </tbody>\n",
       "</table>\n",
       "</div>"
      ],
      "text/plain": [
       "         Date      Open      High       Low     Close  Adj Close  Volume\n",
       "0  1980-03-17  5.018518  5.129630  5.018518  5.037037   0.304709   62400\n",
       "1  1980-03-18  5.037037  5.111111  5.037037  5.074074   0.306950   63900\n",
       "2  1980-03-19  5.111111  5.166667  5.111111  5.148148   0.311431   40500\n",
       "3  1980-03-20  5.148148  5.148148  5.092593  5.111111   0.309190   18900\n",
       "4  1980-03-21  5.111111  5.222222  5.111111  5.222222   0.315912   97200"
      ]
     },
     "execution_count": 4,
     "metadata": {},
     "output_type": "execute_result"
    }
   ],
   "source": [
    "df_stock.head()"
   ]
  },
  {
   "cell_type": "markdown",
   "metadata": {},
   "source": [
    "# Data Cleaning \n",
    "\n",
    "# 2. Drop Date and Adj_Close columns"
   ]
  },
  {
   "cell_type": "code",
   "execution_count": 5,
   "metadata": {},
   "outputs": [
    {
     "data": {
      "text/html": [
       "<div>\n",
       "<style scoped>\n",
       "    .dataframe tbody tr th:only-of-type {\n",
       "        vertical-align: middle;\n",
       "    }\n",
       "\n",
       "    .dataframe tbody tr th {\n",
       "        vertical-align: top;\n",
       "    }\n",
       "\n",
       "    .dataframe thead th {\n",
       "        text-align: right;\n",
       "    }\n",
       "</style>\n",
       "<table border=\"1\" class=\"dataframe\">\n",
       "  <thead>\n",
       "    <tr style=\"text-align: right;\">\n",
       "      <th></th>\n",
       "      <th>Date</th>\n",
       "      <th>Open</th>\n",
       "      <th>High</th>\n",
       "      <th>Low</th>\n",
       "      <th>Close</th>\n",
       "      <th>Adj Close</th>\n",
       "      <th>Volume</th>\n",
       "    </tr>\n",
       "  </thead>\n",
       "  <tbody>\n",
       "    <tr>\n",
       "      <td>0</td>\n",
       "      <td>1980-03-17</td>\n",
       "      <td>5.018518</td>\n",
       "      <td>5.129630</td>\n",
       "      <td>5.018518</td>\n",
       "      <td>5.037037</td>\n",
       "      <td>0.304709</td>\n",
       "      <td>62400</td>\n",
       "    </tr>\n",
       "    <tr>\n",
       "      <td>1</td>\n",
       "      <td>1980-03-18</td>\n",
       "      <td>5.037037</td>\n",
       "      <td>5.111111</td>\n",
       "      <td>5.037037</td>\n",
       "      <td>5.074074</td>\n",
       "      <td>0.306950</td>\n",
       "      <td>63900</td>\n",
       "    </tr>\n",
       "    <tr>\n",
       "      <td>2</td>\n",
       "      <td>1980-03-19</td>\n",
       "      <td>5.111111</td>\n",
       "      <td>5.166667</td>\n",
       "      <td>5.111111</td>\n",
       "      <td>5.148148</td>\n",
       "      <td>0.311431</td>\n",
       "      <td>40500</td>\n",
       "    </tr>\n",
       "    <tr>\n",
       "      <td>3</td>\n",
       "      <td>1980-03-20</td>\n",
       "      <td>5.148148</td>\n",
       "      <td>5.148148</td>\n",
       "      <td>5.092593</td>\n",
       "      <td>5.111111</td>\n",
       "      <td>0.309190</td>\n",
       "      <td>18900</td>\n",
       "    </tr>\n",
       "    <tr>\n",
       "      <td>4</td>\n",
       "      <td>1980-03-21</td>\n",
       "      <td>5.111111</td>\n",
       "      <td>5.222222</td>\n",
       "      <td>5.111111</td>\n",
       "      <td>5.222222</td>\n",
       "      <td>0.315912</td>\n",
       "      <td>97200</td>\n",
       "    </tr>\n",
       "  </tbody>\n",
       "</table>\n",
       "</div>"
      ],
      "text/plain": [
       "         Date      Open      High       Low     Close  Adj Close  Volume\n",
       "0  1980-03-17  5.018518  5.129630  5.018518  5.037037   0.304709   62400\n",
       "1  1980-03-18  5.037037  5.111111  5.037037  5.074074   0.306950   63900\n",
       "2  1980-03-19  5.111111  5.166667  5.111111  5.148148   0.311431   40500\n",
       "3  1980-03-20  5.148148  5.148148  5.092593  5.111111   0.309190   18900\n",
       "4  1980-03-21  5.111111  5.222222  5.111111  5.222222   0.315912   97200"
      ]
     },
     "execution_count": 5,
     "metadata": {},
     "output_type": "execute_result"
    }
   ],
   "source": [
    "# storing the original dataset in a different dataframe before dropping the columns \n",
    "df_stock_new = df_stock\n",
    "df_stock_new.head()"
   ]
  },
  {
   "cell_type": "code",
   "execution_count": 6,
   "metadata": {},
   "outputs": [
    {
     "data": {
      "text/html": [
       "<div>\n",
       "<style scoped>\n",
       "    .dataframe tbody tr th:only-of-type {\n",
       "        vertical-align: middle;\n",
       "    }\n",
       "\n",
       "    .dataframe tbody tr th {\n",
       "        vertical-align: top;\n",
       "    }\n",
       "\n",
       "    .dataframe thead th {\n",
       "        text-align: right;\n",
       "    }\n",
       "</style>\n",
       "<table border=\"1\" class=\"dataframe\">\n",
       "  <thead>\n",
       "    <tr style=\"text-align: right;\">\n",
       "      <th></th>\n",
       "      <th>Open</th>\n",
       "      <th>High</th>\n",
       "      <th>Low</th>\n",
       "      <th>Close</th>\n",
       "      <th>Volume</th>\n",
       "    </tr>\n",
       "  </thead>\n",
       "  <tbody>\n",
       "    <tr>\n",
       "      <td>0</td>\n",
       "      <td>5.018518</td>\n",
       "      <td>5.129630</td>\n",
       "      <td>5.018518</td>\n",
       "      <td>5.037037</td>\n",
       "      <td>62400</td>\n",
       "    </tr>\n",
       "    <tr>\n",
       "      <td>1</td>\n",
       "      <td>5.037037</td>\n",
       "      <td>5.111111</td>\n",
       "      <td>5.037037</td>\n",
       "      <td>5.074074</td>\n",
       "      <td>63900</td>\n",
       "    </tr>\n",
       "    <tr>\n",
       "      <td>2</td>\n",
       "      <td>5.111111</td>\n",
       "      <td>5.166667</td>\n",
       "      <td>5.111111</td>\n",
       "      <td>5.148148</td>\n",
       "      <td>40500</td>\n",
       "    </tr>\n",
       "    <tr>\n",
       "      <td>3</td>\n",
       "      <td>5.148148</td>\n",
       "      <td>5.148148</td>\n",
       "      <td>5.092593</td>\n",
       "      <td>5.111111</td>\n",
       "      <td>18900</td>\n",
       "    </tr>\n",
       "    <tr>\n",
       "      <td>4</td>\n",
       "      <td>5.111111</td>\n",
       "      <td>5.222222</td>\n",
       "      <td>5.111111</td>\n",
       "      <td>5.222222</td>\n",
       "      <td>97200</td>\n",
       "    </tr>\n",
       "  </tbody>\n",
       "</table>\n",
       "</div>"
      ],
      "text/plain": [
       "       Open      High       Low     Close  Volume\n",
       "0  5.018518  5.129630  5.018518  5.037037   62400\n",
       "1  5.037037  5.111111  5.037037  5.074074   63900\n",
       "2  5.111111  5.166667  5.111111  5.148148   40500\n",
       "3  5.148148  5.148148  5.092593  5.111111   18900\n",
       "4  5.111111  5.222222  5.111111  5.222222   97200"
      ]
     },
     "execution_count": 6,
     "metadata": {},
     "output_type": "execute_result"
    }
   ],
   "source": [
    "# dropping the columns Date and Adj_Close\n",
    "df_stock_new=df_stock_new.drop(['Date', 'Adj Close'], axis=1)\n",
    "df_stock_new.head()\n",
    "#df_stock_new.['y'] = df_stock_new.['Close']"
   ]
  },
  {
   "cell_type": "code",
   "execution_count": 7,
   "metadata": {},
   "outputs": [
    {
     "data": {
      "text/plain": [
       "(9745, 5)"
      ]
     },
     "execution_count": 7,
     "metadata": {},
     "output_type": "execute_result"
    }
   ],
   "source": [
    "df_stock_new.shape"
   ]
  },
  {
   "cell_type": "code",
   "execution_count": 8,
   "metadata": {},
   "outputs": [
    {
     "data": {
      "text/plain": [
       "(9745, 7)"
      ]
     },
     "execution_count": 8,
     "metadata": {},
     "output_type": "execute_result"
    }
   ],
   "source": [
    "df_stock.shape"
   ]
  },
  {
   "cell_type": "markdown",
   "metadata": {},
   "source": [
    "# 3. Removing null values "
   ]
  },
  {
   "cell_type": "code",
   "execution_count": 9,
   "metadata": {},
   "outputs": [
    {
     "data": {
      "text/plain": [
       "(9745, 5)"
      ]
     },
     "execution_count": 9,
     "metadata": {},
     "output_type": "execute_result"
    }
   ],
   "source": [
    "df_stock_new.shape"
   ]
  },
  {
   "cell_type": "code",
   "execution_count": 10,
   "metadata": {},
   "outputs": [
    {
     "data": {
      "text/plain": [
       "Open      0\n",
       "High      0\n",
       "Low       0\n",
       "Close     0\n",
       "Volume    0\n",
       "dtype: int64"
      ]
     },
     "execution_count": 10,
     "metadata": {},
     "output_type": "execute_result"
    }
   ],
   "source": [
    "#Calling sum() of the DataFrame returned by isnull() will give a series containing data about count of NaN in each column\n",
    "df_stock_new.isnull().sum()"
   ]
  },
  {
   "cell_type": "code",
   "execution_count": 11,
   "metadata": {},
   "outputs": [],
   "source": [
    "# creating a copy of the column, Close\n",
    "df_stock_new['y'] = df_stock_new['Close']"
   ]
  },
  {
   "cell_type": "code",
   "execution_count": 12,
   "metadata": {},
   "outputs": [
    {
     "data": {
      "text/html": [
       "<div>\n",
       "<style scoped>\n",
       "    .dataframe tbody tr th:only-of-type {\n",
       "        vertical-align: middle;\n",
       "    }\n",
       "\n",
       "    .dataframe tbody tr th {\n",
       "        vertical-align: top;\n",
       "    }\n",
       "\n",
       "    .dataframe thead th {\n",
       "        text-align: right;\n",
       "    }\n",
       "</style>\n",
       "<table border=\"1\" class=\"dataframe\">\n",
       "  <thead>\n",
       "    <tr style=\"text-align: right;\">\n",
       "      <th></th>\n",
       "      <th>Open</th>\n",
       "      <th>High</th>\n",
       "      <th>Low</th>\n",
       "      <th>Close</th>\n",
       "      <th>Volume</th>\n",
       "      <th>y</th>\n",
       "    </tr>\n",
       "  </thead>\n",
       "  <tbody>\n",
       "    <tr>\n",
       "      <td>0</td>\n",
       "      <td>5.018518</td>\n",
       "      <td>5.129630</td>\n",
       "      <td>5.018518</td>\n",
       "      <td>5.037037</td>\n",
       "      <td>62400</td>\n",
       "      <td>5.037037</td>\n",
       "    </tr>\n",
       "    <tr>\n",
       "      <td>1</td>\n",
       "      <td>5.037037</td>\n",
       "      <td>5.111111</td>\n",
       "      <td>5.037037</td>\n",
       "      <td>5.074074</td>\n",
       "      <td>63900</td>\n",
       "      <td>5.074074</td>\n",
       "    </tr>\n",
       "    <tr>\n",
       "      <td>2</td>\n",
       "      <td>5.111111</td>\n",
       "      <td>5.166667</td>\n",
       "      <td>5.111111</td>\n",
       "      <td>5.148148</td>\n",
       "      <td>40500</td>\n",
       "      <td>5.148148</td>\n",
       "    </tr>\n",
       "    <tr>\n",
       "      <td>3</td>\n",
       "      <td>5.148148</td>\n",
       "      <td>5.148148</td>\n",
       "      <td>5.092593</td>\n",
       "      <td>5.111111</td>\n",
       "      <td>18900</td>\n",
       "      <td>5.111111</td>\n",
       "    </tr>\n",
       "    <tr>\n",
       "      <td>4</td>\n",
       "      <td>5.111111</td>\n",
       "      <td>5.222222</td>\n",
       "      <td>5.111111</td>\n",
       "      <td>5.222222</td>\n",
       "      <td>97200</td>\n",
       "      <td>5.222222</td>\n",
       "    </tr>\n",
       "  </tbody>\n",
       "</table>\n",
       "</div>"
      ],
      "text/plain": [
       "       Open      High       Low     Close  Volume         y\n",
       "0  5.018518  5.129630  5.018518  5.037037   62400  5.037037\n",
       "1  5.037037  5.111111  5.037037  5.074074   63900  5.074074\n",
       "2  5.111111  5.166667  5.111111  5.148148   40500  5.148148\n",
       "3  5.148148  5.148148  5.092593  5.111111   18900  5.111111\n",
       "4  5.111111  5.222222  5.111111  5.222222   97200  5.222222"
      ]
     },
     "execution_count": 12,
     "metadata": {},
     "output_type": "execute_result"
    }
   ],
   "source": [
    "df_stock_new.head()"
   ]
  },
  {
   "cell_type": "markdown",
   "metadata": {},
   "source": [
    "# 4. Normalizing the columns "
   ]
  },
  {
   "cell_type": "code",
   "execution_count": 13,
   "metadata": {},
   "outputs": [],
   "source": [
    "#Normalizing the training numeric values using zscore\n",
    "from scipy.stats import zscore\n",
    "df_stock_new['Open'] = zscore(df_stock_new['Open'])\n",
    "df_stock_new['High'] = zscore(df_stock_new['High'])\n",
    "df_stock_new['Low'] = zscore(df_stock_new['Low'])\n",
    "df_stock_new['Close'] = zscore(df_stock_new['Close'])\n",
    "df_stock_new['Volume'] = zscore(df_stock_new['Volume'])"
   ]
  },
  {
   "cell_type": "code",
   "execution_count": 14,
   "metadata": {},
   "outputs": [
    {
     "name": "stderr",
     "output_type": "stream",
     "text": [
      "C:\\Users\\Prerak\\Anaconda3\\lib\\site-packages\\ipykernel_launcher.py:1: FutureWarning: Method .as_matrix will be removed in a future version. Use .values instead.\n",
      "  \"\"\"Entry point for launching an IPython kernel.\n"
     ]
    }
   ],
   "source": [
    "x=df_stock_new.as_matrix(columns=['Open','High','Low','Volume','Close'])"
   ]
  },
  {
   "cell_type": "code",
   "execution_count": 15,
   "metadata": {},
   "outputs": [
    {
     "data": {
      "text/plain": [
       "(9745, 5)"
      ]
     },
     "execution_count": 15,
     "metadata": {},
     "output_type": "execute_result"
    }
   ],
   "source": [
    "x.shape"
   ]
  },
  {
   "cell_type": "code",
   "execution_count": 16,
   "metadata": {},
   "outputs": [
    {
     "data": {
      "text/plain": [
       "(9745, 6)"
      ]
     },
     "execution_count": 16,
     "metadata": {},
     "output_type": "execute_result"
    }
   ],
   "source": [
    "df_stock_new.shape"
   ]
  },
  {
   "cell_type": "code",
   "execution_count": 17,
   "metadata": {},
   "outputs": [],
   "source": [
    "#y=df_stock_new.as_matrix(['y'])"
   ]
  },
  {
   "cell_type": "code",
   "execution_count": 18,
   "metadata": {},
   "outputs": [],
   "source": [
    "y=df_stock_new['y'].tolist()"
   ]
  },
  {
   "cell_type": "code",
   "execution_count": 19,
   "metadata": {},
   "outputs": [],
   "source": [
    "y=np.array(y)"
   ]
  },
  {
   "cell_type": "code",
   "execution_count": 20,
   "metadata": {},
   "outputs": [
    {
     "data": {
      "text/plain": [
       "(9745,)"
      ]
     },
     "execution_count": 20,
     "metadata": {},
     "output_type": "execute_result"
    }
   ],
   "source": [
    "y.shape"
   ]
  },
  {
   "cell_type": "markdown",
   "metadata": {},
   "source": [
    "# 4. Data Transformation"
   ]
  },
  {
   "cell_type": "code",
   "execution_count": 21,
   "metadata": {},
   "outputs": [],
   "source": [
    "import numpy as np\n",
    "\n",
    "def to_sequences(seq_size, data1, data2):\n",
    "    x = []\n",
    "    y = []\n",
    "\n",
    "    for i in range(len(data1)-seq_size):\n",
    "        #print(i)\n",
    "        window = data1[i:(i+seq_size)]\n",
    "        after_window = data2[i+seq_size]\n",
    "        window = [[x] for x in window]\n",
    "        #print(\"{} - {}\".format(window,after_window))\n",
    "        x.append(window)\n",
    "        y.append(after_window)\n",
    "        \n",
    "    return np.array(x), np.array(y)"
   ]
  },
  {
   "cell_type": "code",
   "execution_count": 22,
   "metadata": {},
   "outputs": [
    {
     "name": "stdout",
     "output_type": "stream",
     "text": [
      "Shape of x_seq: (9744, 1, 1, 5)\n",
      "Shape of y_seq: (9744,)\n"
     ]
    }
   ],
   "source": [
    "SEQUENCE_SIZE = 1\n",
    "x_seq, y_seq = to_sequences(SEQUENCE_SIZE,x,y)\n",
    "#x_lstm_seq_test,y_lstm_seq_test = to_sequences(SEQUENCE_SIZE,X_test,y_test)\n",
    "\n",
    "print(\"Shape of x_seq: {}\".format(x_seq.shape))\n",
    "#print(\"Shape of x_test: {}\".format(x_lstm_seq_test.shape))\n",
    "print(\"Shape of y_seq: {}\".format(y_seq.shape))\n",
    "#print(\"Shape of y_test: {}\".format(y_lstm_seq_test.shape))"
   ]
  },
  {
   "cell_type": "code",
   "execution_count": 23,
   "metadata": {},
   "outputs": [],
   "source": [
    "x_seq_2d = x_seq.reshape(9744,5)    "
   ]
  },
  {
   "cell_type": "markdown",
   "metadata": {},
   "source": [
    "# 6. Splitting the dataset into test and train data ( 70% train & 30% test )"
   ]
  },
  {
   "cell_type": "code",
   "execution_count": 24,
   "metadata": {},
   "outputs": [],
   "source": [
    "from sklearn.model_selection import train_test_split\n",
    "X_train,X_test,Y_train,Y_test = train_test_split(x_seq_2d,y_seq,test_size=0.30,random_state=0)"
   ]
  },
  {
   "cell_type": "code",
   "execution_count": 25,
   "metadata": {},
   "outputs": [
    {
     "data": {
      "text/plain": [
       "(6820, 5)"
      ]
     },
     "execution_count": 25,
     "metadata": {},
     "output_type": "execute_result"
    }
   ],
   "source": [
    "X_train.shape"
   ]
  },
  {
   "cell_type": "code",
   "execution_count": 26,
   "metadata": {},
   "outputs": [
    {
     "data": {
      "text/plain": [
       "(2924, 5)"
      ]
     },
     "execution_count": 26,
     "metadata": {},
     "output_type": "execute_result"
    }
   ],
   "source": [
    "X_test.shape"
   ]
  },
  {
   "cell_type": "code",
   "execution_count": 27,
   "metadata": {},
   "outputs": [
    {
     "data": {
      "text/plain": [
       "(6820,)"
      ]
     },
     "execution_count": 27,
     "metadata": {},
     "output_type": "execute_result"
    }
   ],
   "source": [
    "Y_train.shape"
   ]
  },
  {
   "cell_type": "code",
   "execution_count": 28,
   "metadata": {},
   "outputs": [
    {
     "data": {
      "text/plain": [
       "(2924,)"
      ]
     },
     "execution_count": 28,
     "metadata": {},
     "output_type": "execute_result"
    }
   ],
   "source": [
    "Y_test.shape"
   ]
  },
  {
   "cell_type": "code",
   "execution_count": 29,
   "metadata": {},
   "outputs": [
    {
     "data": {
      "text/plain": [
       "numpy.ndarray"
      ]
     },
     "execution_count": 29,
     "metadata": {},
     "output_type": "execute_result"
    }
   ],
   "source": [
    "type(Y_test)\n",
    "type(X_test)\n",
    "type(X_train)\n",
    "type(Y_train)"
   ]
  },
  {
   "cell_type": "markdown",
   "metadata": {},
   "source": [
    "# 7. Applying Neural networks"
   ]
  },
  {
   "cell_type": "markdown",
   "metadata": {},
   "source": [
    "<h3>Dense layers: 64,32,32,1<h3>"
   ]
  },
  {
   "cell_type": "code",
   "execution_count": 30,
   "metadata": {},
   "outputs": [],
   "source": [
    "from sklearn import metrics\n",
    "\n",
    "from tensorflow.keras.models import Sequential\n",
    "from tensorflow.keras.layers import Dense, Activation\n",
    "from tensorflow.keras.callbacks import EarlyStopping\n",
    "from tensorflow.keras.callbacks import ModelCheckpoint\n",
    "from tensorflow.keras import optimizers"
   ]
  },
  {
   "cell_type": "code",
   "execution_count": 31,
   "metadata": {},
   "outputs": [
    {
     "name": "stdout",
     "output_type": "stream",
     "text": [
      "\n",
      "\n",
      "\n",
      "Model trained for \"adam\" optimizer and \"relu\" activation function : \n",
      "\n",
      "Train on 6820 samples, validate on 2924 samples\n",
      "Epoch 1/200\n",
      "6820/6820 - 2s - loss: 524.2639 - val_loss: 46.0089\n",
      "Epoch 2/200\n",
      "6820/6820 - 1s - loss: 11.5250 - val_loss: 2.2568\n",
      "Epoch 3/200\n",
      "6820/6820 - 1s - loss: 1.6891 - val_loss: 1.2109\n",
      "Epoch 4/200\n",
      "6820/6820 - 1s - loss: 1.1133 - val_loss: 0.9342\n",
      "Epoch 5/200\n",
      "6820/6820 - 1s - loss: 0.8989 - val_loss: 0.7628\n",
      "Epoch 6/200\n",
      "6820/6820 - 1s - loss: 0.7898 - val_loss: 0.7050\n",
      "Epoch 7/200\n",
      "6820/6820 - 1s - loss: 0.7395 - val_loss: 0.6940\n",
      "Epoch 8/200\n",
      "6820/6820 - 1s - loss: 0.7674 - val_loss: 0.7056\n",
      "Epoch 9/200\n",
      "6820/6820 - 1s - loss: 0.7161 - val_loss: 0.7305\n",
      "Epoch 10/200\n",
      "6820/6820 - 1s - loss: 0.7290 - val_loss: 0.6808\n",
      "Epoch 11/200\n",
      "6820/6820 - 1s - loss: 0.6984 - val_loss: 0.6543\n",
      "Epoch 12/200\n",
      "6820/6820 - 1s - loss: 0.6900 - val_loss: 0.6549\n",
      "Epoch 13/200\n",
      "6820/6820 - 1s - loss: 0.6832 - val_loss: 0.6288\n",
      "Epoch 14/200\n",
      "6820/6820 - 1s - loss: 0.7025 - val_loss: 0.7293\n",
      "Epoch 15/200\n",
      "6820/6820 - 1s - loss: 0.7046 - val_loss: 0.6585\n",
      "Epoch 16/200\n",
      "6820/6820 - 1s - loss: 0.7389 - val_loss: 0.9383\n",
      "Epoch 17/200\n",
      "6820/6820 - 1s - loss: 0.7132 - val_loss: 0.6613\n",
      "Epoch 18/200\n",
      "6820/6820 - 1s - loss: 0.7122 - val_loss: 0.6160\n",
      "Epoch 19/200\n",
      "6820/6820 - 1s - loss: 0.7197 - val_loss: 0.6278\n",
      "Epoch 20/200\n",
      "6820/6820 - 1s - loss: 0.6983 - val_loss: 0.9063\n",
      "Epoch 21/200\n",
      "6820/6820 - 1s - loss: 0.7046 - val_loss: 0.6401\n",
      "Epoch 22/200\n",
      "6820/6820 - 1s - loss: 0.7118 - val_loss: 0.6936\n",
      "Epoch 23/200\n",
      "6820/6820 - 1s - loss: 0.7142 - val_loss: 0.7623\n",
      "Epoch 00023: early stopping\n",
      "\n",
      "\n",
      "Final score (MSE): 0.6160451895843788\n",
      "Final score (RMSE): 0.784885462716936\n"
     ]
    },
    {
     "data": {
      "image/png": "[encoded data removed]",
      "text/plain": [
       "<Figure size 432x288 with 1 Axes>"
      ]
     },
     "metadata": {
      "needs_background": "light"
     },
     "output_type": "display_data"
    },
    {
     "name": "stdout",
     "output_type": "stream",
     "text": [
      "\n",
      "\n",
      "\n",
      "Model trained for \"adam\" optimizer and \"sigmoid\" activation function : \n",
      "\n",
      "Train on 6820 samples, validate on 2924 samples\n",
      "Epoch 1/200\n",
      "6820/6820 - 2s - loss: 1303.0708 - val_loss: 1117.2065\n",
      "Epoch 2/200\n",
      "6820/6820 - 1s - loss: 1013.3423 - val_loss: 918.8614\n",
      "Epoch 3/200\n",
      "6820/6820 - 1s - loss: 844.1865 - val_loss: 773.3500\n",
      "Epoch 4/200\n",
      "6820/6820 - 1s - loss: 727.3126 - val_loss: 681.6904\n",
      "Epoch 5/200\n",
      "6820/6820 - 1s - loss: 654.5015 - val_loss: 624.7192\n",
      "Epoch 6/200\n",
      "6820/6820 - 1s - loss: 598.2977 - val_loss: 510.3918\n",
      "Epoch 7/200\n",
      "6820/6820 - 1s - loss: 442.7222 - val_loss: 390.5251\n",
      "Epoch 8/200\n",
      "6820/6820 - 1s - loss: 359.5644 - val_loss: 323.9894\n",
      "Epoch 9/200\n",
      "6820/6820 - 1s - loss: 304.1578 - val_loss: 277.0720\n",
      "Epoch 10/200\n",
      "6820/6820 - 1s - loss: 261.2294 - val_loss: 237.3722\n",
      "Epoch 11/200\n",
      "6820/6820 - 1s - loss: 225.9230 - val_loss: 206.1594\n",
      "Epoch 12/200\n",
      "6820/6820 - 1s - loss: 197.7887 - val_loss: 180.6886\n",
      "Epoch 13/200\n",
      "6820/6820 - 1s - loss: 174.9124 - val_loss: 159.7590\n",
      "Epoch 14/200\n",
      "6820/6820 - 1s - loss: 155.7772 - val_loss: 142.2362\n",
      "Epoch 15/200\n",
      "6820/6820 - 1s - loss: 139.2269 - val_loss: 126.9408\n",
      "Epoch 16/200\n",
      "6820/6820 - 1s - loss: 124.9863 - val_loss: 113.9418\n",
      "Epoch 17/200\n",
      "6820/6820 - 1s - loss: 112.4227 - val_loss: 102.3502\n",
      "Epoch 18/200\n",
      "6820/6820 - 1s - loss: 101.4027 - val_loss: 92.1845\n",
      "Epoch 19/200\n",
      "6820/6820 - 1s - loss: 91.5466 - val_loss: 83.0518\n",
      "Epoch 20/200\n",
      "6820/6820 - 1s - loss: 82.5926 - val_loss: 74.8391\n",
      "Epoch 21/200\n",
      "6820/6820 - 1s - loss: 74.2014 - val_loss: 67.0227\n",
      "Epoch 22/200\n",
      "6820/6820 - 1s - loss: 66.5946 - val_loss: 60.1237\n",
      "Epoch 23/200\n",
      "6820/6820 - 1s - loss: 59.5398 - val_loss: 53.5585\n",
      "Epoch 24/200\n",
      "6820/6820 - 1s - loss: 52.7988 - val_loss: 47.3203\n",
      "Epoch 25/200\n",
      "6820/6820 - 1s - loss: 46.6933 - val_loss: 41.7079\n",
      "Epoch 26/200\n",
      "6820/6820 - 1s - loss: 41.0294 - val_loss: 36.5021\n",
      "Epoch 27/200\n",
      "6820/6820 - 1s - loss: 35.7244 - val_loss: 31.6427\n",
      "Epoch 28/200\n",
      "6820/6820 - 1s - loss: 31.0423 - val_loss: 27.4303\n",
      "Epoch 29/200\n",
      "6820/6820 - 1s - loss: 26.8489 - val_loss: 23.6756\n",
      "Epoch 30/200\n",
      "6820/6820 - 1s - loss: 23.1354 - val_loss: 20.3834\n",
      "Epoch 31/200\n",
      "6820/6820 - 2s - loss: 19.9229 - val_loss: 17.4833\n",
      "Epoch 32/200\n",
      "6820/6820 - 1s - loss: 17.1286 - val_loss: 15.0007\n",
      "Epoch 33/200\n",
      "6820/6820 - 1s - loss: 14.7214 - val_loss: 12.8314\n",
      "Epoch 34/200\n",
      "6820/6820 - 1s - loss: 12.6268 - val_loss: 11.0128\n",
      "Epoch 35/200\n",
      "6820/6820 - 1s - loss: 10.7936 - val_loss: 9.3405\n",
      "Epoch 36/200\n",
      "6820/6820 - 2s - loss: 9.1761 - val_loss: 7.9216\n",
      "Epoch 37/200\n",
      "6820/6820 - 2s - loss: 7.7482 - val_loss: 6.6862\n",
      "Epoch 38/200\n",
      "6820/6820 - 1s - loss: 6.5240 - val_loss: 5.5570\n",
      "Epoch 39/200\n",
      "6820/6820 - 1s - loss: 5.4550 - val_loss: 4.6741\n",
      "Epoch 40/200\n",
      "6820/6820 - 1s - loss: 4.5327 - val_loss: 3.8331\n",
      "Epoch 41/200\n",
      "6820/6820 - 1s - loss: 3.7573 - val_loss: 3.3439\n",
      "Epoch 42/200\n",
      "6820/6820 - 1s - loss: 3.1233 - val_loss: 2.9242\n",
      "Epoch 43/200\n",
      "6820/6820 - 1s - loss: 2.5885 - val_loss: 2.3115\n",
      "Epoch 44/200\n",
      "6820/6820 - 1s - loss: 2.1917 - val_loss: 1.8583\n",
      "Epoch 45/200\n",
      "6820/6820 - 1s - loss: 1.7973 - val_loss: 1.6252\n",
      "Epoch 46/200\n",
      "6820/6820 - 1s - loss: 1.5511 - val_loss: 1.5058\n",
      "Epoch 47/200\n",
      "6820/6820 - 1s - loss: 1.3396 - val_loss: 1.1997\n",
      "Epoch 48/200\n",
      "6820/6820 - 1s - loss: 1.2026 - val_loss: 1.1021\n",
      "Epoch 49/200\n",
      "6820/6820 - 1s - loss: 1.0743 - val_loss: 0.9830\n",
      "Epoch 50/200\n",
      "6820/6820 - 1s - loss: 1.0015 - val_loss: 0.9054\n",
      "Epoch 51/200\n",
      "6820/6820 - 1s - loss: 0.9217 - val_loss: 0.8522\n",
      "Epoch 52/200\n",
      "6820/6820 - 1s - loss: 0.8618 - val_loss: 0.8261\n",
      "Epoch 53/200\n",
      "6820/6820 - 1s - loss: 0.8379 - val_loss: 0.7953\n",
      "Epoch 54/200\n",
      "6820/6820 - 2s - loss: 0.8222 - val_loss: 0.7508\n",
      "Epoch 55/200\n",
      "6820/6820 - 1s - loss: 0.7748 - val_loss: 0.8285\n",
      "Epoch 56/200\n",
      "6820/6820 - 1s - loss: 0.7662 - val_loss: 0.6963\n",
      "Epoch 57/200\n",
      "6820/6820 - 1s - loss: 0.7386 - val_loss: 0.7278\n",
      "Epoch 58/200\n",
      "6820/6820 - 1s - loss: 0.7592 - val_loss: 0.7372\n",
      "Epoch 59/200\n",
      "6820/6820 - 1s - loss: 0.7167 - val_loss: 0.6707\n",
      "Epoch 60/200\n",
      "6820/6820 - 1s - loss: 0.7118 - val_loss: 0.6611\n",
      "Epoch 61/200\n",
      "6820/6820 - 1s - loss: 0.7200 - val_loss: 0.6999\n",
      "Epoch 62/200\n",
      "6820/6820 - 1s - loss: 0.7235 - val_loss: 0.7237\n",
      "Epoch 63/200\n",
      "6820/6820 - 1s - loss: 0.6968 - val_loss: 0.7134\n",
      "Epoch 64/200\n",
      "6820/6820 - 1s - loss: 0.7139 - val_loss: 0.6704\n",
      "Epoch 65/200\n",
      "6820/6820 - 1s - loss: 0.7084 - val_loss: 0.7181\n",
      "Epoch 00065: early stopping\n",
      "\n",
      "\n",
      "Final score (MSE): 0.6610668737944395\n",
      "Final score (RMSE): 0.8130601907573876\n"
     ]
    },
    {
     "data": {
      "image/png": "[encoded data removed]",
      "text/plain": [
       "<Figure size 432x288 with 1 Axes>"
      ]
     },
     "metadata": {
      "needs_background": "light"
     },
     "output_type": "display_data"
    },
    {
     "name": "stdout",
     "output_type": "stream",
     "text": [
      "\n",
      "\n",
      "\n",
      "Model trained for \"adam\" optimizer and \"tanh\" activation function : \n",
      "\n",
      "Train on 6820 samples, validate on 2924 samples\n",
      "Epoch 1/200\n",
      "6820/6820 - 2s - loss: 1176.1647 - val_loss: 864.5745\n",
      "Epoch 2/200\n",
      "6820/6820 - 1s - loss: 742.2715 - val_loss: 630.5285\n",
      "Epoch 3/200\n",
      "6820/6820 - 1s - loss: 550.9290 - val_loss: 472.3813\n",
      "Epoch 4/200\n",
      "6820/6820 - 1s - loss: 418.6171 - val_loss: 363.6086\n",
      "Epoch 5/200\n",
      "6820/6820 - 1s - loss: 329.1540 - val_loss: 289.8310\n",
      "Epoch 6/200\n",
      "6820/6820 - 1s - loss: 267.2831 - val_loss: 237.7305\n",
      "Epoch 7/200\n",
      "6820/6820 - 1s - loss: 222.1891 - val_loss: 198.8757\n",
      "Epoch 8/200\n",
      "6820/6820 - 1s - loss: 188.3679 - val_loss: 168.9996\n",
      "Epoch 9/200\n",
      "6820/6820 - 1s - loss: 161.8190 - val_loss: 145.4175\n",
      "Epoch 10/200\n",
      "6820/6820 - 1s - loss: 140.5423 - val_loss: 126.3686\n",
      "Epoch 11/200\n",
      "6820/6820 - 1s - loss: 122.7146 - val_loss: 110.1756\n",
      "Epoch 12/200\n",
      "6820/6820 - 1s - loss: 107.7361 - val_loss: 96.8179\n",
      "Epoch 13/200\n",
      "6820/6820 - 1s - loss: 95.0008 - val_loss: 85.2614\n",
      "Epoch 14/200\n",
      "6820/6820 - 1s - loss: 83.8179 - val_loss: 75.0838\n",
      "Epoch 15/200\n",
      "6820/6820 - 1s - loss: 73.8477 - val_loss: 66.0487\n",
      "Epoch 16/200\n",
      "6820/6820 - 1s - loss: 64.7690 - val_loss: 57.7323\n",
      "Epoch 17/200\n",
      "6820/6820 - 1s - loss: 56.4206 - val_loss: 50.0522\n",
      "Epoch 18/200\n",
      "6820/6820 - 1s - loss: 48.8476 - val_loss: 43.1095\n",
      "Epoch 19/200\n",
      "6820/6820 - 1s - loss: 41.9779 - val_loss: 36.8967\n",
      "Epoch 20/200\n",
      "6820/6820 - 1s - loss: 35.8221 - val_loss: 31.3964\n",
      "Epoch 21/200\n",
      "6820/6820 - 1s - loss: 30.3582 - val_loss: 26.3454\n",
      "Epoch 22/200\n",
      "6820/6820 - 1s - loss: 25.5300 - val_loss: 22.3569\n",
      "Epoch 23/200\n",
      "6820/6820 - 1s - loss: 21.4593 - val_loss: 18.6899\n",
      "Epoch 24/200\n",
      "6820/6820 - 1s - loss: 17.9977 - val_loss: 15.5995\n",
      "Epoch 25/200\n",
      "6820/6820 - 1s - loss: 15.1318 - val_loss: 13.0372\n",
      "Epoch 26/200\n",
      "6820/6820 - 1s - loss: 12.7006 - val_loss: 10.8319\n",
      "Epoch 27/200\n",
      "6820/6820 - 1s - loss: 10.6013 - val_loss: 9.2256\n",
      "Epoch 28/200\n",
      "6820/6820 - 1s - loss: 8.7853 - val_loss: 7.3540\n",
      "Epoch 29/200\n",
      "6820/6820 - 1s - loss: 7.2430 - val_loss: 6.2458\n",
      "Epoch 30/200\n",
      "6820/6820 - 1s - loss: 5.9559 - val_loss: 4.9126\n",
      "Epoch 31/200\n",
      "6820/6820 - 1s - loss: 4.8219 - val_loss: 3.9712\n",
      "Epoch 32/200\n",
      "6820/6820 - 1s - loss: 3.9303 - val_loss: 3.5312\n",
      "Epoch 33/200\n",
      "6820/6820 - 1s - loss: 3.1719 - val_loss: 2.6684\n",
      "Epoch 34/200\n",
      "6820/6820 - 1s - loss: 2.5763 - val_loss: 2.1671\n",
      "Epoch 35/200\n",
      "6820/6820 - 1s - loss: 2.1336 - val_loss: 2.0646\n",
      "Epoch 36/200\n",
      "6820/6820 - 1s - loss: 1.8014 - val_loss: 1.4768\n",
      "Epoch 37/200\n",
      "6820/6820 - 1s - loss: 1.4372 - val_loss: 1.3703\n",
      "Epoch 38/200\n",
      "6820/6820 - 1s - loss: 1.2634 - val_loss: 1.1816\n",
      "Epoch 39/200\n",
      "6820/6820 - 1s - loss: 1.1543 - val_loss: 1.1484\n",
      "Epoch 40/200\n",
      "6820/6820 - 1s - loss: 1.0977 - val_loss: 1.0047\n",
      "Epoch 41/200\n",
      "6820/6820 - 1s - loss: 1.0385 - val_loss: 1.1943\n",
      "Epoch 42/200\n",
      "6820/6820 - 1s - loss: 0.9621 - val_loss: 0.9795\n",
      "Epoch 43/200\n",
      "6820/6820 - 1s - loss: 0.9044 - val_loss: 1.1488\n",
      "Epoch 44/200\n",
      "6820/6820 - 1s - loss: 0.8909 - val_loss: 0.7884\n",
      "Epoch 45/200\n",
      "6820/6820 - 1s - loss: 0.8056 - val_loss: 0.8188\n",
      "Epoch 46/200\n",
      "6820/6820 - 1s - loss: 0.8238 - val_loss: 0.6814\n",
      "Epoch 47/200\n",
      "6820/6820 - 1s - loss: 0.7651 - val_loss: 0.7118\n",
      "Epoch 48/200\n",
      "6820/6820 - 1s - loss: 0.8598 - val_loss: 0.9092\n",
      "Epoch 49/200\n",
      "6820/6820 - 1s - loss: 0.7592 - val_loss: 0.8667\n",
      "Epoch 50/200\n",
      "6820/6820 - 1s - loss: 0.7829 - val_loss: 0.7992\n",
      "Epoch 51/200\n",
      "6820/6820 - 1s - loss: 0.7538 - val_loss: 0.6610\n",
      "Epoch 52/200\n",
      "6820/6820 - 1s - loss: 0.7317 - val_loss: 0.6946\n",
      "Epoch 53/200\n",
      "6820/6820 - 1s - loss: 0.7881 - val_loss: 0.7787\n",
      "Epoch 54/200\n",
      "6820/6820 - 1s - loss: 0.7692 - val_loss: 0.8363\n",
      "Epoch 55/200\n",
      "6820/6820 - 1s - loss: 0.7445 - val_loss: 0.7305\n",
      "Epoch 56/200\n",
      "6820/6820 - 1s - loss: 0.7224 - val_loss: 0.7952\n",
      "Epoch 00056: early stopping\n",
      "\n",
      "\n",
      "Final score (MSE): 0.6610234662886965\n",
      "Final score (RMSE): 0.8130334964124765\n"
     ]
    },
    {
     "data": {
      "image/png": "[encoded data removed]",
      "text/plain": [
       "<Figure size 432x288 with 1 Axes>"
      ]
     },
     "metadata": {
      "needs_background": "light"
     },
     "output_type": "display_data"
    },
    {
     "name": "stdout",
     "output_type": "stream",
     "text": [
      "\n",
      "\n",
      "\n",
      "Model trained for \"sgd\" optimizer and \"relu\" activation function : \n",
      "\n",
      "Train on 6820 samples, validate on 2924 samples\n",
      "Epoch 1/200\n",
      "6820/6820 - 1s - loss: nan - val_loss: nan\n"
     ]
    },
    {
     "name": "stderr",
     "output_type": "stream",
     "text": [
      "C:\\Users\\Prerak\\Anaconda3\\lib\\site-packages\\tensorflow_core\\python\\keras\\callbacks.py:1225: RuntimeWarning: invalid value encountered in less\n",
      "  if self.monitor_op(current - self.min_delta, self.best):\n",
      "C:\\Users\\Prerak\\Anaconda3\\lib\\site-packages\\tensorflow_core\\python\\keras\\callbacks.py:992: RuntimeWarning: invalid value encountered in less\n",
      "  if self.monitor_op(current, self.best):\n"
     ]
    },
    {
     "name": "stdout",
     "output_type": "stream",
     "text": [
      "Epoch 2/200\n",
      "6820/6820 - 1s - loss: nan - val_loss: nan\n",
      "Epoch 3/200\n",
      "6820/6820 - 1s - loss: nan - val_loss: nan\n",
      "Epoch 4/200\n",
      "6820/6820 - 1s - loss: nan - val_loss: nan\n",
      "Epoch 5/200\n",
      "6820/6820 - 1s - loss: nan - val_loss: nan\n",
      "Epoch 00005: early stopping\n",
      "\n",
      "\n",
      "Final score (MSE): 36967.44548911431\n",
      "Final score (RMSE): 192.26920057334797\n"
     ]
    },
    {
     "data": {
      "image/png": "[encoded data removed]",
      "text/plain": [
       "<Figure size 432x288 with 1 Axes>"
      ]
     },
     "metadata": {
      "needs_background": "light"
     },
     "output_type": "display_data"
    },
    {
     "name": "stdout",
     "output_type": "stream",
     "text": [
      "\n",
      "\n",
      "\n",
      "Model trained for \"sgd\" optimizer and \"sigmoid\" activation function : \n",
      "\n",
      "Train on 6820 samples, validate on 2924 samples\n",
      "Epoch 1/200\n",
      "6820/6820 - 1s - loss: 111.2443 - val_loss: 6.9273\n",
      "Epoch 2/200\n",
      "6820/6820 - 1s - loss: 6.5348 - val_loss: 23.1414\n",
      "Epoch 3/200\n",
      "6820/6820 - 1s - loss: 4.1730 - val_loss: 4.4976\n",
      "Epoch 4/200\n",
      "6820/6820 - 1s - loss: 3.9641 - val_loss: 3.7052\n",
      "Epoch 5/200\n",
      "6820/6820 - 1s - loss: 3.6854 - val_loss: 3.2723\n",
      "Epoch 6/200\n",
      "6820/6820 - 1s - loss: 2.2239 - val_loss: 3.1040\n",
      "Epoch 7/200\n",
      "6820/6820 - 1s - loss: 1.8838 - val_loss: 5.4526\n",
      "Epoch 8/200\n",
      "6820/6820 - 1s - loss: 2.3529 - val_loss: 2.1811\n",
      "Epoch 9/200\n",
      "6820/6820 - 1s - loss: 1.2832 - val_loss: 1.5682\n",
      "Epoch 10/200\n",
      "6820/6820 - 1s - loss: 1.5886 - val_loss: 3.4081\n",
      "Epoch 11/200\n",
      "6820/6820 - 1s - loss: 1.9578 - val_loss: 1.1597\n",
      "Epoch 12/200\n",
      "6820/6820 - 1s - loss: 1.2451 - val_loss: 5.2275\n",
      "Epoch 13/200\n",
      "6820/6820 - 1s - loss: 1.3180 - val_loss: 0.9834\n",
      "Epoch 14/200\n",
      "6820/6820 - 1s - loss: 1.4962 - val_loss: 3.8250\n",
      "Epoch 15/200\n",
      "6820/6820 - 1s - loss: 1.3508 - val_loss: 0.8377\n",
      "Epoch 16/200\n",
      "6820/6820 - 1s - loss: 1.2737 - val_loss: 0.9435\n",
      "Epoch 17/200\n",
      "6820/6820 - 1s - loss: 1.3142 - val_loss: 1.6020\n",
      "Epoch 18/200\n",
      "6820/6820 - 1s - loss: 1.3594 - val_loss: 2.0136\n",
      "Epoch 19/200\n",
      "6820/6820 - 1s - loss: 1.2062 - val_loss: 1.6993\n",
      "Epoch 20/200\n",
      "6820/6820 - 1s - loss: 1.0421 - val_loss: 3.8163\n",
      "Epoch 00020: early stopping\n",
      "\n",
      "\n",
      "Final score (MSE): 0.8377183368088474\n",
      "Final score (RMSE): 0.9152695432542522\n"
     ]
    },
    {
     "data": {
      "image/png": "[encoded data removed]",
      "text/plain": [
       "<Figure size 432x288 with 1 Axes>"
      ]
     },
     "metadata": {
      "needs_background": "light"
     },
     "output_type": "display_data"
    },
    {
     "name": "stdout",
     "output_type": "stream",
     "text": [
      "\n",
      "\n",
      "\n",
      "Model trained for \"sgd\" optimizer and \"tanh\" activation function : \n",
      "\n",
      "Train on 6820 samples, validate on 2924 samples\n",
      "Epoch 1/200\n",
      "6820/6820 - 1s - loss: 128.6981 - val_loss: 7.9913\n",
      "Epoch 2/200\n",
      "6820/6820 - 1s - loss: 12.5329 - val_loss: 392.6491\n",
      "Epoch 3/200\n",
      "6820/6820 - 1s - loss: 13.4046 - val_loss: 6.3032\n",
      "Epoch 4/200\n",
      "6820/6820 - 1s - loss: 8.8576 - val_loss: 31.1027\n",
      "Epoch 5/200\n",
      "6820/6820 - 1s - loss: 11.5976 - val_loss: 4.6356\n",
      "Epoch 6/200\n",
      "6820/6820 - 1s - loss: 4.2509 - val_loss: 18.7184\n",
      "Epoch 7/200\n",
      "6820/6820 - 1s - loss: 4.8297 - val_loss: 34.6209\n",
      "Epoch 8/200\n",
      "6820/6820 - 1s - loss: 10.6975 - val_loss: 76.8228\n",
      "Epoch 9/200\n",
      "6820/6820 - 1s - loss: 54.8022 - val_loss: 57.3436\n",
      "Epoch 10/200\n",
      "6820/6820 - 1s - loss: 19.2755 - val_loss: 13.2862\n",
      "Epoch 00010: early stopping\n",
      "\n",
      "\n",
      "Final score (MSE): 4.6355558630154805\n",
      "Final score (RMSE): 2.153034106328899\n"
     ]
    },
    {
     "data": {
      "image/png": "[encoded data removed]",
      "text/plain": [
       "<Figure size 432x288 with 1 Axes>"
      ]
     },
     "metadata": {
      "needs_background": "light"
     },
     "output_type": "display_data"
    }
   ],
   "source": [
    "optimizers = ['adam','sgd']\n",
    "activation_functions = ['relu','sigmoid','tanh']\n",
    "\n",
    "for opt in optimizers:\n",
    "    for act in activation_functions:\n",
    "\n",
    "        print(\"\\n\\n\\nModel trained for \\\"{}\\\" optimizer and \\\"{}\\\" activation function : \\n\".format(opt,act))\n",
    "        \n",
    "        model = Sequential()\n",
    "        model.add(Dense(64, input_dim=X_train.shape[1], activation=act))\n",
    "        model.add(Dense(32,activation=act))\n",
    "        model.add(Dense(32,activation=act))\n",
    "        model.add(Dense(1))\n",
    "        model.compile(loss='mean_squared_error', optimizer=opt)\n",
    "\n",
    "        monitor = EarlyStopping(monitor='val_loss', min_delta=1e-3, patience=5, verbose=1, mode='auto')\n",
    "        checkpointer = ModelCheckpoint(filepath=\"best_weights_NN.hdf5\", verbose=0, save_best_only=True)\n",
    "\n",
    "        model.fit(X_train, Y_train,validation_data=(X_test,Y_test),callbacks=[monitor,checkpointer],verbose=2,epochs=200)\n",
    "\n",
    "        model.load_weights('best_weights_NN.hdf5')\n",
    "        \n",
    "        pred = model.predict(X_test)\n",
    "        \n",
    "        \n",
    "        # Measure MSE error.  \n",
    "        mse = metrics.mean_squared_error(pred,Y_test)\n",
    "        print(\"\\n\\nFinal score (MSE): {}\".format(mse))\n",
    "        \n",
    "        # Measure RMSE error.  RMSE is common for regression.\n",
    "        rmse = np.sqrt(metrics.mean_squared_error(pred,Y_test))\n",
    "        print(\"Final score (RMSE): {}\".format(rmse))\n",
    "        \n",
    "        chart_regression(pred.flatten(),Y_test,sort=True)"
   ]
  },
  {
   "cell_type": "code",
   "execution_count": null,
   "metadata": {},
   "outputs": [],
   "source": []
  }
 ],
 "metadata": {
  "kernelspec": {
   "display_name": "Python 3",
   "language": "python",
   "name": "python3"
  },
  "language_info": {
   "codemirror_mode": {
    "name": "ipython",
    "version": 3
   },
   "file_extension": ".py",
   "mimetype": "text/x-python",
   "name": "python",
   "nbconvert_exporter": "python",
   "pygments_lexer": "ipython3",
   "version": "3.7.4"
  }
 },
 "nbformat": 4,
 "nbformat_minor": 2
}
